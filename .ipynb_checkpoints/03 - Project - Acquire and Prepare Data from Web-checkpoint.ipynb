{
 "cells": [
  {
   "cell_type": "markdown",
   "id": "39c877c9",
   "metadata": {},
   "source": [
    "# Project - Acquire and Prepare Data from Web"
   ]
  },
  {
   "cell_type": "markdown",
   "id": "26869a35",
   "metadata": {},
   "source": [
    "![Data Science Workflow](img/ds-workflow.png)"
   ]
  },
  {
   "cell_type": "markdown",
   "id": "b78e72ef",
   "metadata": {},
   "source": [
    "## Goal of Project\n",
    "- This project will focus on Step 1 and 2 (**Acquire** and **Prepare**)\n",
    "- We will read raw data that needs Data Wrangling to prepare\n",
    "- The process we follow demonstrates how a Data Scientist works"
   ]
  },
  {
   "cell_type": "markdown",
   "id": "77f362c4",
   "metadata": {},
   "source": [
    "## Step 1: Acquire\n",
    "- Explore problem\n",
    "- Identify data\n",
    "- Import data"
   ]
  },
  {
   "cell_type": "markdown",
   "id": "6f8cbbcb",
   "metadata": {},
   "source": [
    "### Step 1.a: Import libraries\n",
    "- Execute the cell below (SHIFT + ENTER)"
   ]
  },
  {
   "cell_type": "code",
   "execution_count": 65,
   "id": "a3625ad6",
   "metadata": {},
   "outputs": [],
   "source": [
    "import pandas as pd"
   ]
  },
  {
   "cell_type": "markdown",
   "id": "b5f9a799",
   "metadata": {},
   "source": [
    "### Step 1.b: Retrieve/Read the data\n",
    "- There are two options to get data\n",
    "#### Option 1: Directly from wikipedia\n",
    "- Assign variable ```url = \"https://en.wikipedia.org/wiki/Wikipedia:Fundraising_statistics\"```\n",
    "- Retrieve the data ```tables = pd.read_html(url)```\n",
    "- Assign the first DataFrame to a variable\n",
    "    - HINT: ```tables``` is a list DataFrame containing all the data\n",
    "\n",
    "#### Option 2: From csv file (if option 1 fails)\n",
    "- Use ```pd.read_csv()``` to read the file `files/fundraising.csv`\n",
    "- NOTE: Remember to assign the result to a variable (e.g., ```data```)\n",
    "- Apply ```.head()``` on the data to see all is as expected"
   ]
  },
  {
   "cell_type": "code",
   "execution_count": 66,
   "id": "c7aa93d7",
   "metadata": {},
   "outputs": [],
   "source": [
    "url = \"https://en.wikipedia.org/wiki/Wikipedia:Fundraising_statistics\""
   ]
  },
  {
   "cell_type": "code",
   "execution_count": 67,
   "id": "213fffaf",
   "metadata": {},
   "outputs": [],
   "source": [
    "tables = pd.read_html(url)"
   ]
  },
  {
   "cell_type": "code",
   "execution_count": 68,
   "id": "5175eacd",
   "metadata": {},
   "outputs": [
    {
     "data": {
      "text/html": [
       "<div>\n",
       "<style scoped>\n",
       "    .dataframe tbody tr th:only-of-type {\n",
       "        vertical-align: middle;\n",
       "    }\n",
       "\n",
       "    .dataframe tbody tr th {\n",
       "        vertical-align: top;\n",
       "    }\n",
       "\n",
       "    .dataframe thead th {\n",
       "        text-align: right;\n",
       "    }\n",
       "</style>\n",
       "<table border=\"1\" class=\"dataframe\">\n",
       "  <thead>\n",
       "    <tr style=\"text-align: right;\">\n",
       "      <th></th>\n",
       "      <th>Year</th>\n",
       "      <th>Source</th>\n",
       "      <th>Revenue</th>\n",
       "      <th>Expenses</th>\n",
       "      <th>Asset rise</th>\n",
       "      <th>Total assets</th>\n",
       "    </tr>\n",
       "  </thead>\n",
       "  <tbody>\n",
       "    <tr>\n",
       "      <th>0</th>\n",
       "      <td>2021/22</td>\n",
       "      <td>PDF</td>\n",
       "      <td>$ 154,686,521</td>\n",
       "      <td>$ 145,970,915</td>\n",
       "      <td>$ 8,173,996</td>\n",
       "      <td>$ 239,351,532</td>\n",
       "    </tr>\n",
       "    <tr>\n",
       "      <th>1</th>\n",
       "      <td>2020/21</td>\n",
       "      <td>PDF</td>\n",
       "      <td>$ 162,886,686</td>\n",
       "      <td>$ 111,839,819</td>\n",
       "      <td>$ 50,861,811</td>\n",
       "      <td>$ 231,177,536</td>\n",
       "    </tr>\n",
       "    <tr>\n",
       "      <th>2</th>\n",
       "      <td>2019/20</td>\n",
       "      <td>PDF</td>\n",
       "      <td>$ 129,234,327</td>\n",
       "      <td>$ 112,489,397</td>\n",
       "      <td>$ 14,674,300</td>\n",
       "      <td>$ 180,315,725</td>\n",
       "    </tr>\n",
       "    <tr>\n",
       "      <th>3</th>\n",
       "      <td>2018/19</td>\n",
       "      <td>PDF</td>\n",
       "      <td>$ 120,067,266</td>\n",
       "      <td>$ 91,414,010</td>\n",
       "      <td>$ 30,691,855</td>\n",
       "      <td>$ 165,641,425</td>\n",
       "    </tr>\n",
       "    <tr>\n",
       "      <th>4</th>\n",
       "      <td>2017/18</td>\n",
       "      <td>PDF</td>\n",
       "      <td>$ 104,505,783</td>\n",
       "      <td>$ 81,442,265</td>\n",
       "      <td>$ 21,619,373</td>\n",
       "      <td>$ 134,949,570</td>\n",
       "    </tr>\n",
       "    <tr>\n",
       "      <th>5</th>\n",
       "      <td>2016/17</td>\n",
       "      <td>PDF</td>\n",
       "      <td>$ 91,242,418</td>\n",
       "      <td>$ 69,136,758</td>\n",
       "      <td>$ 21,547,402</td>\n",
       "      <td>$ 113,330,197</td>\n",
       "    </tr>\n",
       "    <tr>\n",
       "      <th>6</th>\n",
       "      <td>2015/16</td>\n",
       "      <td>PDF</td>\n",
       "      <td>$ 81,862,724</td>\n",
       "      <td>$ 65,947,465</td>\n",
       "      <td>$ 13,962,497</td>\n",
       "      <td>$ 91,782,795</td>\n",
       "    </tr>\n",
       "    <tr>\n",
       "      <th>7</th>\n",
       "      <td>2014/15</td>\n",
       "      <td>PDF</td>\n",
       "      <td>$ 75,797,223</td>\n",
       "      <td>$ 52,596,782</td>\n",
       "      <td>$ 24,345,277</td>\n",
       "      <td>$ 77,820,298</td>\n",
       "    </tr>\n",
       "    <tr>\n",
       "      <th>8</th>\n",
       "      <td>2013/14</td>\n",
       "      <td>PDF</td>\n",
       "      <td>$ 52,465,287</td>\n",
       "      <td>$ 45,900,745</td>\n",
       "      <td>$ 8,285,897</td>\n",
       "      <td>$ 53,475,021</td>\n",
       "    </tr>\n",
       "    <tr>\n",
       "      <th>9</th>\n",
       "      <td>2012/13</td>\n",
       "      <td>PDF</td>\n",
       "      <td>$ 48,635,408</td>\n",
       "      <td>$ 35,704,796</td>\n",
       "      <td>$ 10,260,066</td>\n",
       "      <td>$ 45,189,124</td>\n",
       "    </tr>\n",
       "    <tr>\n",
       "      <th>10</th>\n",
       "      <td>2011/12</td>\n",
       "      <td>PDF</td>\n",
       "      <td>$ 38,479,665</td>\n",
       "      <td>$ 29,260,652</td>\n",
       "      <td>$ 10,736,914</td>\n",
       "      <td>$ 34,929,058</td>\n",
       "    </tr>\n",
       "    <tr>\n",
       "      <th>11</th>\n",
       "      <td>2010/11</td>\n",
       "      <td>PDF</td>\n",
       "      <td>$ 24,785,092</td>\n",
       "      <td>$ 17,889,794</td>\n",
       "      <td>$ 9,649,413</td>\n",
       "      <td>$ 24,192,144</td>\n",
       "    </tr>\n",
       "    <tr>\n",
       "      <th>12</th>\n",
       "      <td>2009/10</td>\n",
       "      <td>PDF</td>\n",
       "      <td>$ 17,979,312</td>\n",
       "      <td>$ 10,266,793</td>\n",
       "      <td>$ 6,310,964</td>\n",
       "      <td>$ 14,542,731</td>\n",
       "    </tr>\n",
       "    <tr>\n",
       "      <th>13</th>\n",
       "      <td>2008/09</td>\n",
       "      <td>PDF</td>\n",
       "      <td>$ 8,658,006</td>\n",
       "      <td>$ 5,617,236</td>\n",
       "      <td>$ 3,053,599</td>\n",
       "      <td>$ 8,231,767</td>\n",
       "    </tr>\n",
       "    <tr>\n",
       "      <th>14</th>\n",
       "      <td>2007/08</td>\n",
       "      <td>PDF</td>\n",
       "      <td>$ 5,032,981</td>\n",
       "      <td>$ 3,540,724</td>\n",
       "      <td>$ 3,519,886</td>\n",
       "      <td>$ 5,178,168</td>\n",
       "    </tr>\n",
       "    <tr>\n",
       "      <th>15</th>\n",
       "      <td>2006/07</td>\n",
       "      <td>PDF</td>\n",
       "      <td>$ 2,734,909</td>\n",
       "      <td>$ 2,077,843</td>\n",
       "      <td>$ 654,066</td>\n",
       "      <td>$ 1,658,282</td>\n",
       "    </tr>\n",
       "    <tr>\n",
       "      <th>16</th>\n",
       "      <td>2005/06</td>\n",
       "      <td>PDF</td>\n",
       "      <td>$ 1,508,039</td>\n",
       "      <td>$ 791,907</td>\n",
       "      <td>$ 736,132</td>\n",
       "      <td>$ 1,004,216</td>\n",
       "    </tr>\n",
       "    <tr>\n",
       "      <th>17</th>\n",
       "      <td>2004/05</td>\n",
       "      <td>PDF</td>\n",
       "      <td>$ 379,088</td>\n",
       "      <td>$ 177,670</td>\n",
       "      <td>$ 211,418</td>\n",
       "      <td>$ 268,084</td>\n",
       "    </tr>\n",
       "    <tr>\n",
       "      <th>18</th>\n",
       "      <td>2003/04</td>\n",
       "      <td>PDF</td>\n",
       "      <td>$ 80,129</td>\n",
       "      <td>$ 23,463</td>\n",
       "      <td>$ 56,666</td>\n",
       "      <td>$ 56,666</td>\n",
       "    </tr>\n",
       "  </tbody>\n",
       "</table>\n",
       "</div>"
      ],
      "text/plain": [
       "       Year Source        Revenue       Expenses    Asset rise   Total assets\n",
       "0   2021/22    PDF  $ 154,686,521  $ 145,970,915   $ 8,173,996  $ 239,351,532\n",
       "1   2020/21    PDF  $ 162,886,686  $ 111,839,819  $ 50,861,811  $ 231,177,536\n",
       "2   2019/20    PDF  $ 129,234,327  $ 112,489,397  $ 14,674,300  $ 180,315,725\n",
       "3   2018/19    PDF  $ 120,067,266   $ 91,414,010  $ 30,691,855  $ 165,641,425\n",
       "4   2017/18    PDF  $ 104,505,783   $ 81,442,265  $ 21,619,373  $ 134,949,570\n",
       "5   2016/17    PDF   $ 91,242,418   $ 69,136,758  $ 21,547,402  $ 113,330,197\n",
       "6   2015/16    PDF   $ 81,862,724   $ 65,947,465  $ 13,962,497   $ 91,782,795\n",
       "7   2014/15    PDF   $ 75,797,223   $ 52,596,782  $ 24,345,277   $ 77,820,298\n",
       "8   2013/14    PDF   $ 52,465,287   $ 45,900,745   $ 8,285,897   $ 53,475,021\n",
       "9   2012/13    PDF   $ 48,635,408   $ 35,704,796  $ 10,260,066   $ 45,189,124\n",
       "10  2011/12    PDF   $ 38,479,665   $ 29,260,652  $ 10,736,914   $ 34,929,058\n",
       "11  2010/11    PDF   $ 24,785,092   $ 17,889,794   $ 9,649,413   $ 24,192,144\n",
       "12  2009/10    PDF   $ 17,979,312   $ 10,266,793   $ 6,310,964   $ 14,542,731\n",
       "13  2008/09    PDF    $ 8,658,006    $ 5,617,236   $ 3,053,599    $ 8,231,767\n",
       "14  2007/08    PDF    $ 5,032,981    $ 3,540,724   $ 3,519,886    $ 5,178,168\n",
       "15  2006/07    PDF    $ 2,734,909    $ 2,077,843     $ 654,066    $ 1,658,282\n",
       "16  2005/06    PDF    $ 1,508,039      $ 791,907     $ 736,132    $ 1,004,216\n",
       "17  2004/05    PDF      $ 379,088      $ 177,670     $ 211,418      $ 268,084\n",
       "18  2003/04    PDF       $ 80,129       $ 23,463      $ 56,666       $ 56,666"
      ]
     },
     "execution_count": 68,
     "metadata": {},
     "output_type": "execute_result"
    }
   ],
   "source": [
    "tables[0]"
   ]
  },
  {
   "cell_type": "code",
   "execution_count": 69,
   "id": "4e80693d",
   "metadata": {},
   "outputs": [],
   "source": [
    "data = tables[0]"
   ]
  },
  {
   "cell_type": "code",
   "execution_count": 70,
   "id": "7c4ca1ea",
   "metadata": {},
   "outputs": [
    {
     "data": {
      "text/html": [
       "<div>\n",
       "<style scoped>\n",
       "    .dataframe tbody tr th:only-of-type {\n",
       "        vertical-align: middle;\n",
       "    }\n",
       "\n",
       "    .dataframe tbody tr th {\n",
       "        vertical-align: top;\n",
       "    }\n",
       "\n",
       "    .dataframe thead th {\n",
       "        text-align: right;\n",
       "    }\n",
       "</style>\n",
       "<table border=\"1\" class=\"dataframe\">\n",
       "  <thead>\n",
       "    <tr style=\"text-align: right;\">\n",
       "      <th></th>\n",
       "      <th>Year</th>\n",
       "      <th>Source</th>\n",
       "      <th>Revenue</th>\n",
       "      <th>Expenses</th>\n",
       "      <th>Asset rise</th>\n",
       "      <th>Total assets</th>\n",
       "    </tr>\n",
       "  </thead>\n",
       "  <tbody>\n",
       "    <tr>\n",
       "      <th>0</th>\n",
       "      <td>2021/22</td>\n",
       "      <td>PDF</td>\n",
       "      <td>$ 154,686,521</td>\n",
       "      <td>$ 145,970,915</td>\n",
       "      <td>$ 8,173,996</td>\n",
       "      <td>$ 239,351,532</td>\n",
       "    </tr>\n",
       "    <tr>\n",
       "      <th>1</th>\n",
       "      <td>2020/21</td>\n",
       "      <td>PDF</td>\n",
       "      <td>$ 162,886,686</td>\n",
       "      <td>$ 111,839,819</td>\n",
       "      <td>$ 50,861,811</td>\n",
       "      <td>$ 231,177,536</td>\n",
       "    </tr>\n",
       "    <tr>\n",
       "      <th>2</th>\n",
       "      <td>2019/20</td>\n",
       "      <td>PDF</td>\n",
       "      <td>$ 129,234,327</td>\n",
       "      <td>$ 112,489,397</td>\n",
       "      <td>$ 14,674,300</td>\n",
       "      <td>$ 180,315,725</td>\n",
       "    </tr>\n",
       "    <tr>\n",
       "      <th>3</th>\n",
       "      <td>2018/19</td>\n",
       "      <td>PDF</td>\n",
       "      <td>$ 120,067,266</td>\n",
       "      <td>$ 91,414,010</td>\n",
       "      <td>$ 30,691,855</td>\n",
       "      <td>$ 165,641,425</td>\n",
       "    </tr>\n",
       "    <tr>\n",
       "      <th>4</th>\n",
       "      <td>2017/18</td>\n",
       "      <td>PDF</td>\n",
       "      <td>$ 104,505,783</td>\n",
       "      <td>$ 81,442,265</td>\n",
       "      <td>$ 21,619,373</td>\n",
       "      <td>$ 134,949,570</td>\n",
       "    </tr>\n",
       "  </tbody>\n",
       "</table>\n",
       "</div>"
      ],
      "text/plain": [
       "      Year Source        Revenue       Expenses    Asset rise   Total assets\n",
       "0  2021/22    PDF  $ 154,686,521  $ 145,970,915   $ 8,173,996  $ 239,351,532\n",
       "1  2020/21    PDF  $ 162,886,686  $ 111,839,819  $ 50,861,811  $ 231,177,536\n",
       "2  2019/20    PDF  $ 129,234,327  $ 112,489,397  $ 14,674,300  $ 180,315,725\n",
       "3  2018/19    PDF  $ 120,067,266   $ 91,414,010  $ 30,691,855  $ 165,641,425\n",
       "4  2017/18    PDF  $ 104,505,783   $ 81,442,265  $ 21,619,373  $ 134,949,570"
      ]
     },
     "execution_count": 70,
     "metadata": {},
     "output_type": "execute_result"
    }
   ],
   "source": [
    "data.head()"
   ]
  },
  {
   "cell_type": "markdown",
   "id": "3bec949d",
   "metadata": {},
   "source": [
    "## Step 2: Prepare\n",
    "- Explore data\n",
    "- Visualize ideas\n",
    "- Cleaning data"
   ]
  },
  {
   "cell_type": "markdown",
   "id": "6a5d948d",
   "metadata": {},
   "source": [
    "### Step 2.a: Check the data types\n",
    "- This step tells you if some numeric column is not represented numeric.\n",
    "- Get the data types by ```.dtypes```"
   ]
  },
  {
   "cell_type": "code",
   "execution_count": 71,
   "id": "34cb3d41",
   "metadata": {},
   "outputs": [
    {
     "data": {
      "text/plain": [
       "Year            object\n",
       "Source          object\n",
       "Revenue         object\n",
       "Expenses        object\n",
       "Asset rise      object\n",
       "Total assets    object\n",
       "dtype: object"
      ]
     },
     "execution_count": 71,
     "metadata": {},
     "output_type": "execute_result"
    }
   ],
   "source": [
    "data.dtypes"
   ]
  },
  {
   "cell_type": "markdown",
   "id": "2867789a",
   "metadata": {},
   "source": [
    "### Step 2.b: Check for null (missing) values\n",
    "- Data often is missing entries - there can be many reasons for this\n",
    "- We need to deal with that (will do later in course)\n",
    "- Use ```.isna().any()```"
   ]
  },
  {
   "cell_type": "code",
   "execution_count": 72,
   "id": "512207e8",
   "metadata": {},
   "outputs": [
    {
     "data": {
      "text/plain": [
       "Year            False\n",
       "Source          False\n",
       "Revenue         False\n",
       "Expenses        False\n",
       "Asset rise      False\n",
       "Total assets    False\n",
       "dtype: bool"
      ]
     },
     "execution_count": 72,
     "metadata": {},
     "output_type": "execute_result"
    }
   ],
   "source": [
    "data.isna().any()"
   ]
  },
  {
   "cell_type": "code",
   "execution_count": 73,
   "id": "860884bf",
   "metadata": {},
   "outputs": [
    {
     "data": {
      "text/html": [
       "<div>\n",
       "<style scoped>\n",
       "    .dataframe tbody tr th:only-of-type {\n",
       "        vertical-align: middle;\n",
       "    }\n",
       "\n",
       "    .dataframe tbody tr th {\n",
       "        vertical-align: top;\n",
       "    }\n",
       "\n",
       "    .dataframe thead th {\n",
       "        text-align: right;\n",
       "    }\n",
       "</style>\n",
       "<table border=\"1\" class=\"dataframe\">\n",
       "  <thead>\n",
       "    <tr style=\"text-align: right;\">\n",
       "      <th></th>\n",
       "      <th>Year</th>\n",
       "      <th>Source</th>\n",
       "      <th>Revenue</th>\n",
       "      <th>Expenses</th>\n",
       "      <th>Asset rise</th>\n",
       "      <th>Total assets</th>\n",
       "    </tr>\n",
       "  </thead>\n",
       "  <tbody>\n",
       "    <tr>\n",
       "      <th>0</th>\n",
       "      <td>2021/22</td>\n",
       "      <td>PDF</td>\n",
       "      <td>$ 154,686,521</td>\n",
       "      <td>$ 145,970,915</td>\n",
       "      <td>$ 8,173,996</td>\n",
       "      <td>$ 239,351,532</td>\n",
       "    </tr>\n",
       "    <tr>\n",
       "      <th>1</th>\n",
       "      <td>2020/21</td>\n",
       "      <td>PDF</td>\n",
       "      <td>$ 162,886,686</td>\n",
       "      <td>$ 111,839,819</td>\n",
       "      <td>$ 50,861,811</td>\n",
       "      <td>$ 231,177,536</td>\n",
       "    </tr>\n",
       "    <tr>\n",
       "      <th>2</th>\n",
       "      <td>2019/20</td>\n",
       "      <td>PDF</td>\n",
       "      <td>$ 129,234,327</td>\n",
       "      <td>$ 112,489,397</td>\n",
       "      <td>$ 14,674,300</td>\n",
       "      <td>$ 180,315,725</td>\n",
       "    </tr>\n",
       "    <tr>\n",
       "      <th>3</th>\n",
       "      <td>2018/19</td>\n",
       "      <td>PDF</td>\n",
       "      <td>$ 120,067,266</td>\n",
       "      <td>$ 91,414,010</td>\n",
       "      <td>$ 30,691,855</td>\n",
       "      <td>$ 165,641,425</td>\n",
       "    </tr>\n",
       "    <tr>\n",
       "      <th>4</th>\n",
       "      <td>2017/18</td>\n",
       "      <td>PDF</td>\n",
       "      <td>$ 104,505,783</td>\n",
       "      <td>$ 81,442,265</td>\n",
       "      <td>$ 21,619,373</td>\n",
       "      <td>$ 134,949,570</td>\n",
       "    </tr>\n",
       "  </tbody>\n",
       "</table>\n",
       "</div>"
      ],
      "text/plain": [
       "      Year Source        Revenue       Expenses    Asset rise   Total assets\n",
       "0  2021/22    PDF  $ 154,686,521  $ 145,970,915   $ 8,173,996  $ 239,351,532\n",
       "1  2020/21    PDF  $ 162,886,686  $ 111,839,819  $ 50,861,811  $ 231,177,536\n",
       "2  2019/20    PDF  $ 129,234,327  $ 112,489,397  $ 14,674,300  $ 180,315,725\n",
       "3  2018/19    PDF  $ 120,067,266   $ 91,414,010  $ 30,691,855  $ 165,641,425\n",
       "4  2017/18    PDF  $ 104,505,783   $ 81,442,265  $ 21,619,373  $ 134,949,570"
      ]
     },
     "execution_count": 73,
     "metadata": {},
     "output_type": "execute_result"
    }
   ],
   "source": [
    "data.head()"
   ]
  },
  {
   "cell_type": "markdown",
   "id": "137fdfde",
   "metadata": {},
   "source": [
    "### Step 2.c: Delete Source Column\n",
    "- The Column Source adds no value for further investigations\n",
    "- You can delete it by \n",
    "    - ```del data['Source']```"
   ]
  },
  {
   "cell_type": "code",
   "execution_count": 74,
   "id": "639ac2bb",
   "metadata": {},
   "outputs": [
    {
     "data": {
      "text/html": [
       "<div>\n",
       "<style scoped>\n",
       "    .dataframe tbody tr th:only-of-type {\n",
       "        vertical-align: middle;\n",
       "    }\n",
       "\n",
       "    .dataframe tbody tr th {\n",
       "        vertical-align: top;\n",
       "    }\n",
       "\n",
       "    .dataframe thead th {\n",
       "        text-align: right;\n",
       "    }\n",
       "</style>\n",
       "<table border=\"1\" class=\"dataframe\">\n",
       "  <thead>\n",
       "    <tr style=\"text-align: right;\">\n",
       "      <th></th>\n",
       "      <th>Year</th>\n",
       "      <th>Revenue</th>\n",
       "      <th>Expenses</th>\n",
       "      <th>Asset rise</th>\n",
       "      <th>Total assets</th>\n",
       "    </tr>\n",
       "  </thead>\n",
       "  <tbody>\n",
       "    <tr>\n",
       "      <th>0</th>\n",
       "      <td>2021/22</td>\n",
       "      <td>$ 154,686,521</td>\n",
       "      <td>$ 145,970,915</td>\n",
       "      <td>$ 8,173,996</td>\n",
       "      <td>$ 239,351,532</td>\n",
       "    </tr>\n",
       "    <tr>\n",
       "      <th>1</th>\n",
       "      <td>2020/21</td>\n",
       "      <td>$ 162,886,686</td>\n",
       "      <td>$ 111,839,819</td>\n",
       "      <td>$ 50,861,811</td>\n",
       "      <td>$ 231,177,536</td>\n",
       "    </tr>\n",
       "    <tr>\n",
       "      <th>2</th>\n",
       "      <td>2019/20</td>\n",
       "      <td>$ 129,234,327</td>\n",
       "      <td>$ 112,489,397</td>\n",
       "      <td>$ 14,674,300</td>\n",
       "      <td>$ 180,315,725</td>\n",
       "    </tr>\n",
       "    <tr>\n",
       "      <th>3</th>\n",
       "      <td>2018/19</td>\n",
       "      <td>$ 120,067,266</td>\n",
       "      <td>$ 91,414,010</td>\n",
       "      <td>$ 30,691,855</td>\n",
       "      <td>$ 165,641,425</td>\n",
       "    </tr>\n",
       "    <tr>\n",
       "      <th>4</th>\n",
       "      <td>2017/18</td>\n",
       "      <td>$ 104,505,783</td>\n",
       "      <td>$ 81,442,265</td>\n",
       "      <td>$ 21,619,373</td>\n",
       "      <td>$ 134,949,570</td>\n",
       "    </tr>\n",
       "  </tbody>\n",
       "</table>\n",
       "</div>"
      ],
      "text/plain": [
       "      Year        Revenue       Expenses    Asset rise   Total assets\n",
       "0  2021/22  $ 154,686,521  $ 145,970,915   $ 8,173,996  $ 239,351,532\n",
       "1  2020/21  $ 162,886,686  $ 111,839,819  $ 50,861,811  $ 231,177,536\n",
       "2  2019/20  $ 129,234,327  $ 112,489,397  $ 14,674,300  $ 180,315,725\n",
       "3  2018/19  $ 120,067,266   $ 91,414,010  $ 30,691,855  $ 165,641,425\n",
       "4  2017/18  $ 104,505,783   $ 81,442,265  $ 21,619,373  $ 134,949,570"
      ]
     },
     "execution_count": 74,
     "metadata": {},
     "output_type": "execute_result"
    }
   ],
   "source": [
    "del data['Source']\n",
    "\n",
    "data.head()"
   ]
  },
  {
   "cell_type": "code",
   "execution_count": 75,
   "id": "7fa9b8d4",
   "metadata": {},
   "outputs": [
    {
     "data": {
      "text/html": [
       "<div>\n",
       "<style scoped>\n",
       "    .dataframe tbody tr th:only-of-type {\n",
       "        vertical-align: middle;\n",
       "    }\n",
       "\n",
       "    .dataframe tbody tr th {\n",
       "        vertical-align: top;\n",
       "    }\n",
       "\n",
       "    .dataframe thead th {\n",
       "        text-align: right;\n",
       "    }\n",
       "</style>\n",
       "<table border=\"1\" class=\"dataframe\">\n",
       "  <thead>\n",
       "    <tr style=\"text-align: right;\">\n",
       "      <th></th>\n",
       "      <th>Year</th>\n",
       "      <th>Revenue</th>\n",
       "      <th>Expenses</th>\n",
       "      <th>Asset rise</th>\n",
       "      <th>Total assets</th>\n",
       "    </tr>\n",
       "  </thead>\n",
       "  <tbody>\n",
       "    <tr>\n",
       "      <th>0</th>\n",
       "      <td>2021/22</td>\n",
       "      <td>$ 154,686,521</td>\n",
       "      <td>$ 145,970,915</td>\n",
       "      <td>$ 8,173,996</td>\n",
       "      <td>$ 239,351,532</td>\n",
       "    </tr>\n",
       "    <tr>\n",
       "      <th>1</th>\n",
       "      <td>2020/21</td>\n",
       "      <td>$ 162,886,686</td>\n",
       "      <td>$ 111,839,819</td>\n",
       "      <td>$ 50,861,811</td>\n",
       "      <td>$ 231,177,536</td>\n",
       "    </tr>\n",
       "    <tr>\n",
       "      <th>2</th>\n",
       "      <td>2019/20</td>\n",
       "      <td>$ 129,234,327</td>\n",
       "      <td>$ 112,489,397</td>\n",
       "      <td>$ 14,674,300</td>\n",
       "      <td>$ 180,315,725</td>\n",
       "    </tr>\n",
       "    <tr>\n",
       "      <th>3</th>\n",
       "      <td>2018/19</td>\n",
       "      <td>$ 120,067,266</td>\n",
       "      <td>$ 91,414,010</td>\n",
       "      <td>$ 30,691,855</td>\n",
       "      <td>$ 165,641,425</td>\n",
       "    </tr>\n",
       "    <tr>\n",
       "      <th>4</th>\n",
       "      <td>2017/18</td>\n",
       "      <td>$ 104,505,783</td>\n",
       "      <td>$ 81,442,265</td>\n",
       "      <td>$ 21,619,373</td>\n",
       "      <td>$ 134,949,570</td>\n",
       "    </tr>\n",
       "  </tbody>\n",
       "</table>\n",
       "</div>"
      ],
      "text/plain": [
       "      Year        Revenue       Expenses    Asset rise   Total assets\n",
       "0  2021/22  $ 154,686,521  $ 145,970,915   $ 8,173,996  $ 239,351,532\n",
       "1  2020/21  $ 162,886,686  $ 111,839,819  $ 50,861,811  $ 231,177,536\n",
       "2  2019/20  $ 129,234,327  $ 112,489,397  $ 14,674,300  $ 180,315,725\n",
       "3  2018/19  $ 120,067,266   $ 91,414,010  $ 30,691,855  $ 165,641,425\n",
       "4  2017/18  $ 104,505,783   $ 81,442,265  $ 21,619,373  $ 134,949,570"
      ]
     },
     "execution_count": 75,
     "metadata": {},
     "output_type": "execute_result"
    }
   ],
   "source": [
    "data.head()"
   ]
  },
  {
   "cell_type": "markdown",
   "id": "846a1523",
   "metadata": {},
   "source": [
    "### Step 2.d: Convert Year column to numeric\n",
    "- All the strings in years are formatted: 'YYYY/YYYY'\n",
    "- To get the last year as string: ```data['Year'].str[-4:]```\n",
    "- To convert that to numeric use: ```pd.to_numeric(...)```\n",
    "    - HINT: You can assign the column directly"
   ]
  },
  {
   "cell_type": "code",
   "execution_count": 93,
   "id": "a84958ea",
   "metadata": {},
   "outputs": [
    {
     "data": {
      "text/html": [
       "<div>\n",
       "<style scoped>\n",
       "    .dataframe tbody tr th:only-of-type {\n",
       "        vertical-align: middle;\n",
       "    }\n",
       "\n",
       "    .dataframe tbody tr th {\n",
       "        vertical-align: top;\n",
       "    }\n",
       "\n",
       "    .dataframe thead th {\n",
       "        text-align: right;\n",
       "    }\n",
       "</style>\n",
       "<table border=\"1\" class=\"dataframe\">\n",
       "  <thead>\n",
       "    <tr style=\"text-align: right;\">\n",
       "      <th></th>\n",
       "      <th>Year</th>\n",
       "      <th>Revenue</th>\n",
       "      <th>Expenses</th>\n",
       "      <th>Asset rise</th>\n",
       "      <th>Total assets</th>\n",
       "    </tr>\n",
       "  </thead>\n",
       "  <tbody>\n",
       "    <tr>\n",
       "      <th>0</th>\n",
       "      <td>2021</td>\n",
       "      <td>$ 154,686,521</td>\n",
       "      <td>$ 145,970,915</td>\n",
       "      <td>$ 8,173,996</td>\n",
       "      <td>$ 239,351,532</td>\n",
       "    </tr>\n",
       "    <tr>\n",
       "      <th>1</th>\n",
       "      <td>2020</td>\n",
       "      <td>$ 162,886,686</td>\n",
       "      <td>$ 111,839,819</td>\n",
       "      <td>$ 50,861,811</td>\n",
       "      <td>$ 231,177,536</td>\n",
       "    </tr>\n",
       "    <tr>\n",
       "      <th>2</th>\n",
       "      <td>2019</td>\n",
       "      <td>$ 129,234,327</td>\n",
       "      <td>$ 112,489,397</td>\n",
       "      <td>$ 14,674,300</td>\n",
       "      <td>$ 180,315,725</td>\n",
       "    </tr>\n",
       "    <tr>\n",
       "      <th>3</th>\n",
       "      <td>2018</td>\n",
       "      <td>$ 120,067,266</td>\n",
       "      <td>$ 91,414,010</td>\n",
       "      <td>$ 30,691,855</td>\n",
       "      <td>$ 165,641,425</td>\n",
       "    </tr>\n",
       "    <tr>\n",
       "      <th>4</th>\n",
       "      <td>2017</td>\n",
       "      <td>$ 104,505,783</td>\n",
       "      <td>$ 81,442,265</td>\n",
       "      <td>$ 21,619,373</td>\n",
       "      <td>$ 134,949,570</td>\n",
       "    </tr>\n",
       "  </tbody>\n",
       "</table>\n",
       "</div>"
      ],
      "text/plain": [
       "   Year        Revenue       Expenses    Asset rise   Total assets\n",
       "0  2021  $ 154,686,521  $ 145,970,915   $ 8,173,996  $ 239,351,532\n",
       "1  2020  $ 162,886,686  $ 111,839,819  $ 50,861,811  $ 231,177,536\n",
       "2  2019  $ 129,234,327  $ 112,489,397  $ 14,674,300  $ 180,315,725\n",
       "3  2018  $ 120,067,266   $ 91,414,010  $ 30,691,855  $ 165,641,425\n",
       "4  2017  $ 104,505,783   $ 81,442,265  $ 21,619,373  $ 134,949,570"
      ]
     },
     "execution_count": 93,
     "metadata": {},
     "output_type": "execute_result"
    }
   ],
   "source": [
    "data['Year'] = data['Year'].str[-7:-3]\n",
    "\n",
    "data.head()"
   ]
  },
  {
   "cell_type": "code",
   "execution_count": 94,
   "id": "7d91dd36",
   "metadata": {},
   "outputs": [
    {
     "data": {
      "text/plain": [
       "Year             int64\n",
       "Revenue         object\n",
       "Expenses        object\n",
       "Asset rise      object\n",
       "Total assets    object\n",
       "dtype: object"
      ]
     },
     "execution_count": 94,
     "metadata": {},
     "output_type": "execute_result"
    }
   ],
   "source": [
    "data['Year'] = pd.to_numeric(data['Year'])\n",
    "data.dtypes"
   ]
  },
  {
   "cell_type": "markdown",
   "id": "6cd81826",
   "metadata": {},
   "source": [
    "### Step 2.e: Set Year to index\n",
    "- To change a column to be the index use: ```data.set_index('Year', inplace=True)```\n",
    "- Also sort the index in correct order: ```data.sort_index(inplace=True)```"
   ]
  },
  {
   "cell_type": "code",
   "execution_count": 95,
   "id": "4b9d3578",
   "metadata": {},
   "outputs": [
    {
     "data": {
      "text/html": [
       "<div>\n",
       "<style scoped>\n",
       "    .dataframe tbody tr th:only-of-type {\n",
       "        vertical-align: middle;\n",
       "    }\n",
       "\n",
       "    .dataframe tbody tr th {\n",
       "        vertical-align: top;\n",
       "    }\n",
       "\n",
       "    .dataframe thead th {\n",
       "        text-align: right;\n",
       "    }\n",
       "</style>\n",
       "<table border=\"1\" class=\"dataframe\">\n",
       "  <thead>\n",
       "    <tr style=\"text-align: right;\">\n",
       "      <th></th>\n",
       "      <th>Year</th>\n",
       "      <th>Revenue</th>\n",
       "      <th>Expenses</th>\n",
       "      <th>Asset rise</th>\n",
       "      <th>Total assets</th>\n",
       "    </tr>\n",
       "  </thead>\n",
       "  <tbody>\n",
       "    <tr>\n",
       "      <th>0</th>\n",
       "      <td>2021</td>\n",
       "      <td>$ 154,686,521</td>\n",
       "      <td>$ 145,970,915</td>\n",
       "      <td>$ 8,173,996</td>\n",
       "      <td>$ 239,351,532</td>\n",
       "    </tr>\n",
       "    <tr>\n",
       "      <th>1</th>\n",
       "      <td>2020</td>\n",
       "      <td>$ 162,886,686</td>\n",
       "      <td>$ 111,839,819</td>\n",
       "      <td>$ 50,861,811</td>\n",
       "      <td>$ 231,177,536</td>\n",
       "    </tr>\n",
       "    <tr>\n",
       "      <th>2</th>\n",
       "      <td>2019</td>\n",
       "      <td>$ 129,234,327</td>\n",
       "      <td>$ 112,489,397</td>\n",
       "      <td>$ 14,674,300</td>\n",
       "      <td>$ 180,315,725</td>\n",
       "    </tr>\n",
       "    <tr>\n",
       "      <th>3</th>\n",
       "      <td>2018</td>\n",
       "      <td>$ 120,067,266</td>\n",
       "      <td>$ 91,414,010</td>\n",
       "      <td>$ 30,691,855</td>\n",
       "      <td>$ 165,641,425</td>\n",
       "    </tr>\n",
       "    <tr>\n",
       "      <th>4</th>\n",
       "      <td>2017</td>\n",
       "      <td>$ 104,505,783</td>\n",
       "      <td>$ 81,442,265</td>\n",
       "      <td>$ 21,619,373</td>\n",
       "      <td>$ 134,949,570</td>\n",
       "    </tr>\n",
       "  </tbody>\n",
       "</table>\n",
       "</div>"
      ],
      "text/plain": [
       "   Year        Revenue       Expenses    Asset rise   Total assets\n",
       "0  2021  $ 154,686,521  $ 145,970,915   $ 8,173,996  $ 239,351,532\n",
       "1  2020  $ 162,886,686  $ 111,839,819  $ 50,861,811  $ 231,177,536\n",
       "2  2019  $ 129,234,327  $ 112,489,397  $ 14,674,300  $ 180,315,725\n",
       "3  2018  $ 120,067,266   $ 91,414,010  $ 30,691,855  $ 165,641,425\n",
       "4  2017  $ 104,505,783   $ 81,442,265  $ 21,619,373  $ 134,949,570"
      ]
     },
     "execution_count": 95,
     "metadata": {},
     "output_type": "execute_result"
    }
   ],
   "source": [
    "data.head()"
   ]
  },
  {
   "cell_type": "code",
   "execution_count": 96,
   "id": "88644f1e",
   "metadata": {},
   "outputs": [
    {
     "data": {
      "text/html": [
       "<div>\n",
       "<style scoped>\n",
       "    .dataframe tbody tr th:only-of-type {\n",
       "        vertical-align: middle;\n",
       "    }\n",
       "\n",
       "    .dataframe tbody tr th {\n",
       "        vertical-align: top;\n",
       "    }\n",
       "\n",
       "    .dataframe thead th {\n",
       "        text-align: right;\n",
       "    }\n",
       "</style>\n",
       "<table border=\"1\" class=\"dataframe\">\n",
       "  <thead>\n",
       "    <tr style=\"text-align: right;\">\n",
       "      <th></th>\n",
       "      <th>Revenue</th>\n",
       "      <th>Expenses</th>\n",
       "      <th>Asset rise</th>\n",
       "      <th>Total assets</th>\n",
       "    </tr>\n",
       "    <tr>\n",
       "      <th>Year</th>\n",
       "      <th></th>\n",
       "      <th></th>\n",
       "      <th></th>\n",
       "      <th></th>\n",
       "    </tr>\n",
       "  </thead>\n",
       "  <tbody>\n",
       "    <tr>\n",
       "      <th>2021</th>\n",
       "      <td>$ 154,686,521</td>\n",
       "      <td>$ 145,970,915</td>\n",
       "      <td>$ 8,173,996</td>\n",
       "      <td>$ 239,351,532</td>\n",
       "    </tr>\n",
       "    <tr>\n",
       "      <th>2020</th>\n",
       "      <td>$ 162,886,686</td>\n",
       "      <td>$ 111,839,819</td>\n",
       "      <td>$ 50,861,811</td>\n",
       "      <td>$ 231,177,536</td>\n",
       "    </tr>\n",
       "    <tr>\n",
       "      <th>2019</th>\n",
       "      <td>$ 129,234,327</td>\n",
       "      <td>$ 112,489,397</td>\n",
       "      <td>$ 14,674,300</td>\n",
       "      <td>$ 180,315,725</td>\n",
       "    </tr>\n",
       "    <tr>\n",
       "      <th>2018</th>\n",
       "      <td>$ 120,067,266</td>\n",
       "      <td>$ 91,414,010</td>\n",
       "      <td>$ 30,691,855</td>\n",
       "      <td>$ 165,641,425</td>\n",
       "    </tr>\n",
       "    <tr>\n",
       "      <th>2017</th>\n",
       "      <td>$ 104,505,783</td>\n",
       "      <td>$ 81,442,265</td>\n",
       "      <td>$ 21,619,373</td>\n",
       "      <td>$ 134,949,570</td>\n",
       "    </tr>\n",
       "  </tbody>\n",
       "</table>\n",
       "</div>"
      ],
      "text/plain": [
       "            Revenue       Expenses    Asset rise   Total assets\n",
       "Year                                                           \n",
       "2021  $ 154,686,521  $ 145,970,915   $ 8,173,996  $ 239,351,532\n",
       "2020  $ 162,886,686  $ 111,839,819  $ 50,861,811  $ 231,177,536\n",
       "2019  $ 129,234,327  $ 112,489,397  $ 14,674,300  $ 180,315,725\n",
       "2018  $ 120,067,266   $ 91,414,010  $ 30,691,855  $ 165,641,425\n",
       "2017  $ 104,505,783   $ 81,442,265  $ 21,619,373  $ 134,949,570"
      ]
     },
     "execution_count": 96,
     "metadata": {},
     "output_type": "execute_result"
    }
   ],
   "source": [
    "data.set_index('Year', inplace=True)\n",
    "\n",
    "data.head()"
   ]
  },
  {
   "cell_type": "code",
   "execution_count": 98,
   "id": "23f7789e",
   "metadata": {},
   "outputs": [
    {
     "data": {
      "text/html": [
       "<div>\n",
       "<style scoped>\n",
       "    .dataframe tbody tr th:only-of-type {\n",
       "        vertical-align: middle;\n",
       "    }\n",
       "\n",
       "    .dataframe tbody tr th {\n",
       "        vertical-align: top;\n",
       "    }\n",
       "\n",
       "    .dataframe thead th {\n",
       "        text-align: right;\n",
       "    }\n",
       "</style>\n",
       "<table border=\"1\" class=\"dataframe\">\n",
       "  <thead>\n",
       "    <tr style=\"text-align: right;\">\n",
       "      <th></th>\n",
       "      <th>Revenue</th>\n",
       "      <th>Expenses</th>\n",
       "      <th>Asset rise</th>\n",
       "      <th>Total assets</th>\n",
       "    </tr>\n",
       "    <tr>\n",
       "      <th>Year</th>\n",
       "      <th></th>\n",
       "      <th></th>\n",
       "      <th></th>\n",
       "      <th></th>\n",
       "    </tr>\n",
       "  </thead>\n",
       "  <tbody>\n",
       "    <tr>\n",
       "      <th>2003</th>\n",
       "      <td>$ 80,129</td>\n",
       "      <td>$ 23,463</td>\n",
       "      <td>$ 56,666</td>\n",
       "      <td>$ 56,666</td>\n",
       "    </tr>\n",
       "    <tr>\n",
       "      <th>2004</th>\n",
       "      <td>$ 379,088</td>\n",
       "      <td>$ 177,670</td>\n",
       "      <td>$ 211,418</td>\n",
       "      <td>$ 268,084</td>\n",
       "    </tr>\n",
       "    <tr>\n",
       "      <th>2005</th>\n",
       "      <td>$ 1,508,039</td>\n",
       "      <td>$ 791,907</td>\n",
       "      <td>$ 736,132</td>\n",
       "      <td>$ 1,004,216</td>\n",
       "    </tr>\n",
       "    <tr>\n",
       "      <th>2006</th>\n",
       "      <td>$ 2,734,909</td>\n",
       "      <td>$ 2,077,843</td>\n",
       "      <td>$ 654,066</td>\n",
       "      <td>$ 1,658,282</td>\n",
       "    </tr>\n",
       "    <tr>\n",
       "      <th>2007</th>\n",
       "      <td>$ 5,032,981</td>\n",
       "      <td>$ 3,540,724</td>\n",
       "      <td>$ 3,519,886</td>\n",
       "      <td>$ 5,178,168</td>\n",
       "    </tr>\n",
       "  </tbody>\n",
       "</table>\n",
       "</div>"
      ],
      "text/plain": [
       "          Revenue     Expenses   Asset rise Total assets\n",
       "Year                                                    \n",
       "2003     $ 80,129     $ 23,463     $ 56,666     $ 56,666\n",
       "2004    $ 379,088    $ 177,670    $ 211,418    $ 268,084\n",
       "2005  $ 1,508,039    $ 791,907    $ 736,132  $ 1,004,216\n",
       "2006  $ 2,734,909  $ 2,077,843    $ 654,066  $ 1,658,282\n",
       "2007  $ 5,032,981  $ 3,540,724  $ 3,519,886  $ 5,178,168"
      ]
     },
     "execution_count": 98,
     "metadata": {},
     "output_type": "execute_result"
    }
   ],
   "source": [
    "data.sort_index(inplace=True)\n",
    "\n",
    "data.head()"
   ]
  },
  {
   "cell_type": "markdown",
   "id": "0087a9d0",
   "metadata": {},
   "source": [
    "### Step 2.f: Convert the remaining columns to numeric\n",
    "- Remember the steps from the lesson\n",
    "    - ```.str[2:]``` to remove the first two characters ('\\$ ')\n",
    "    - ```.str.replace(',', '')``` to remove commas\n",
    "    - ```pd.to_numeric(...)``` converts string (containing well-formed number) to the numeric value\n",
    "- Try to do it directly column by column"
   ]
  },
  {
   "cell_type": "code",
   "execution_count": 99,
   "id": "c1a42ebd",
   "metadata": {},
   "outputs": [
    {
     "data": {
      "text/plain": [
       "Revenue         object\n",
       "Expenses        object\n",
       "Asset rise      object\n",
       "Total assets    object\n",
       "dtype: object"
      ]
     },
     "execution_count": 99,
     "metadata": {},
     "output_type": "execute_result"
    }
   ],
   "source": [
    "data.dtypes"
   ]
  },
  {
   "cell_type": "code",
   "execution_count": 100,
   "id": "58da7da0",
   "metadata": {},
   "outputs": [],
   "source": [
    "data['Revenue'] = pd.to_numeric(data['Revenue'].str[2:].str.replace(',', ''))"
   ]
  },
  {
   "cell_type": "code",
   "execution_count": 101,
   "id": "8134f157",
   "metadata": {},
   "outputs": [
    {
     "data": {
      "text/plain": [
       "Revenue          int64\n",
       "Expenses        object\n",
       "Asset rise      object\n",
       "Total assets    object\n",
       "dtype: object"
      ]
     },
     "execution_count": 101,
     "metadata": {},
     "output_type": "execute_result"
    }
   ],
   "source": [
    "data.dtypes"
   ]
  },
  {
   "cell_type": "code",
   "execution_count": 102,
   "id": "2a07bddf",
   "metadata": {},
   "outputs": [
    {
     "data": {
      "text/html": [
       "<div>\n",
       "<style scoped>\n",
       "    .dataframe tbody tr th:only-of-type {\n",
       "        vertical-align: middle;\n",
       "    }\n",
       "\n",
       "    .dataframe tbody tr th {\n",
       "        vertical-align: top;\n",
       "    }\n",
       "\n",
       "    .dataframe thead th {\n",
       "        text-align: right;\n",
       "    }\n",
       "</style>\n",
       "<table border=\"1\" class=\"dataframe\">\n",
       "  <thead>\n",
       "    <tr style=\"text-align: right;\">\n",
       "      <th></th>\n",
       "      <th>Revenue</th>\n",
       "      <th>Expenses</th>\n",
       "      <th>Asset rise</th>\n",
       "      <th>Total assets</th>\n",
       "    </tr>\n",
       "    <tr>\n",
       "      <th>Year</th>\n",
       "      <th></th>\n",
       "      <th></th>\n",
       "      <th></th>\n",
       "      <th></th>\n",
       "    </tr>\n",
       "  </thead>\n",
       "  <tbody>\n",
       "    <tr>\n",
       "      <th>2003</th>\n",
       "      <td>80129</td>\n",
       "      <td>$ 23,463</td>\n",
       "      <td>$ 56,666</td>\n",
       "      <td>$ 56,666</td>\n",
       "    </tr>\n",
       "    <tr>\n",
       "      <th>2004</th>\n",
       "      <td>379088</td>\n",
       "      <td>$ 177,670</td>\n",
       "      <td>$ 211,418</td>\n",
       "      <td>$ 268,084</td>\n",
       "    </tr>\n",
       "    <tr>\n",
       "      <th>2005</th>\n",
       "      <td>1508039</td>\n",
       "      <td>$ 791,907</td>\n",
       "      <td>$ 736,132</td>\n",
       "      <td>$ 1,004,216</td>\n",
       "    </tr>\n",
       "    <tr>\n",
       "      <th>2006</th>\n",
       "      <td>2734909</td>\n",
       "      <td>$ 2,077,843</td>\n",
       "      <td>$ 654,066</td>\n",
       "      <td>$ 1,658,282</td>\n",
       "    </tr>\n",
       "    <tr>\n",
       "      <th>2007</th>\n",
       "      <td>5032981</td>\n",
       "      <td>$ 3,540,724</td>\n",
       "      <td>$ 3,519,886</td>\n",
       "      <td>$ 5,178,168</td>\n",
       "    </tr>\n",
       "  </tbody>\n",
       "</table>\n",
       "</div>"
      ],
      "text/plain": [
       "      Revenue     Expenses   Asset rise Total assets\n",
       "Year                                                \n",
       "2003    80129     $ 23,463     $ 56,666     $ 56,666\n",
       "2004   379088    $ 177,670    $ 211,418    $ 268,084\n",
       "2005  1508039    $ 791,907    $ 736,132  $ 1,004,216\n",
       "2006  2734909  $ 2,077,843    $ 654,066  $ 1,658,282\n",
       "2007  5032981  $ 3,540,724  $ 3,519,886  $ 5,178,168"
      ]
     },
     "execution_count": 102,
     "metadata": {},
     "output_type": "execute_result"
    }
   ],
   "source": [
    "data.head()"
   ]
  },
  {
   "cell_type": "code",
   "execution_count": 104,
   "id": "cba83651",
   "metadata": {},
   "outputs": [],
   "source": [
    "data['Expenses'] = pd.to_numeric(data['Expenses'].str[2:].str.replace(',', ''))\n",
    "data['Asset rise'] = pd.to_numeric(data['Asset rise'].str[2:].str.replace(',', ''))\n",
    "data['Total assets'] = pd.to_numeric(data['Total assets'].str[2:].str.replace(',', ''))"
   ]
  },
  {
   "cell_type": "code",
   "execution_count": 105,
   "id": "85108b51",
   "metadata": {},
   "outputs": [
    {
     "data": {
      "text/plain": [
       "Revenue         int64\n",
       "Expenses        int64\n",
       "Asset rise      int64\n",
       "Total assets    int64\n",
       "dtype: object"
      ]
     },
     "execution_count": 105,
     "metadata": {},
     "output_type": "execute_result"
    }
   ],
   "source": [
    "data.dtypes"
   ]
  },
  {
   "cell_type": "code",
   "execution_count": 106,
   "id": "df777058",
   "metadata": {},
   "outputs": [
    {
     "data": {
      "text/html": [
       "<div>\n",
       "<style scoped>\n",
       "    .dataframe tbody tr th:only-of-type {\n",
       "        vertical-align: middle;\n",
       "    }\n",
       "\n",
       "    .dataframe tbody tr th {\n",
       "        vertical-align: top;\n",
       "    }\n",
       "\n",
       "    .dataframe thead th {\n",
       "        text-align: right;\n",
       "    }\n",
       "</style>\n",
       "<table border=\"1\" class=\"dataframe\">\n",
       "  <thead>\n",
       "    <tr style=\"text-align: right;\">\n",
       "      <th></th>\n",
       "      <th>Revenue</th>\n",
       "      <th>Expenses</th>\n",
       "      <th>Asset rise</th>\n",
       "      <th>Total assets</th>\n",
       "    </tr>\n",
       "    <tr>\n",
       "      <th>Year</th>\n",
       "      <th></th>\n",
       "      <th></th>\n",
       "      <th></th>\n",
       "      <th></th>\n",
       "    </tr>\n",
       "  </thead>\n",
       "  <tbody>\n",
       "    <tr>\n",
       "      <th>2003</th>\n",
       "      <td>80129</td>\n",
       "      <td>23463</td>\n",
       "      <td>56666</td>\n",
       "      <td>56666</td>\n",
       "    </tr>\n",
       "    <tr>\n",
       "      <th>2004</th>\n",
       "      <td>379088</td>\n",
       "      <td>177670</td>\n",
       "      <td>211418</td>\n",
       "      <td>268084</td>\n",
       "    </tr>\n",
       "    <tr>\n",
       "      <th>2005</th>\n",
       "      <td>1508039</td>\n",
       "      <td>791907</td>\n",
       "      <td>736132</td>\n",
       "      <td>1004216</td>\n",
       "    </tr>\n",
       "    <tr>\n",
       "      <th>2006</th>\n",
       "      <td>2734909</td>\n",
       "      <td>2077843</td>\n",
       "      <td>654066</td>\n",
       "      <td>1658282</td>\n",
       "    </tr>\n",
       "    <tr>\n",
       "      <th>2007</th>\n",
       "      <td>5032981</td>\n",
       "      <td>3540724</td>\n",
       "      <td>3519886</td>\n",
       "      <td>5178168</td>\n",
       "    </tr>\n",
       "  </tbody>\n",
       "</table>\n",
       "</div>"
      ],
      "text/plain": [
       "      Revenue  Expenses  Asset rise  Total assets\n",
       "Year                                             \n",
       "2003    80129     23463       56666         56666\n",
       "2004   379088    177670      211418        268084\n",
       "2005  1508039    791907      736132       1004216\n",
       "2006  2734909   2077843      654066       1658282\n",
       "2007  5032981   3540724     3519886       5178168"
      ]
     },
     "execution_count": 106,
     "metadata": {},
     "output_type": "execute_result"
    }
   ],
   "source": [
    "data.head()"
   ]
  },
  {
   "cell_type": "markdown",
   "id": "bb468746",
   "metadata": {},
   "source": [
    "### Step 2.g: Visualize data to investigate quality\n",
    "- Make a simple plot of **Revenue**, **Expenses** and **Total assets**\n",
    "- This will help you spot any outliers"
   ]
  },
  {
   "cell_type": "code",
   "execution_count": 107,
   "id": "9919eb8c",
   "metadata": {},
   "outputs": [
    {
     "data": {
      "text/plain": [
       "<AxesSubplot: xlabel='Year'>"
      ]
     },
     "execution_count": 107,
     "metadata": {},
     "output_type": "execute_result"
    },
    {
     "data": {
      "image/png": "[encoded data removed]",
      "text/plain": [
       "<Figure size 640x480 with 1 Axes>"
      ]
     },
     "metadata": {},
     "output_type": "display_data"
    }
   ],
   "source": [
    "data[['Revenue', 'Expenses', 'Total assets']].plot()"
   ]
  },
  {
   "cell_type": "markdown",
   "id": "c347dbfd",
   "metadata": {},
   "source": [
    "### Step 2.h: Visualize data to investigate quality\n",
    "- Make a simple plot of **Asset rise**\n",
    "- This will help you spot any outliers"
   ]
  },
  {
   "cell_type": "code",
   "execution_count": 108,
   "id": "5b4074f2",
   "metadata": {},
   "outputs": [
    {
     "data": {
      "text/plain": [
       "<AxesSubplot: xlabel='Year'>"
      ]
     },
     "execution_count": 108,
     "metadata": {},
     "output_type": "execute_result"
    },
    {
     "data": {
      "image/png": "[encoded data removed]",
      "text/plain": [
       "<Figure size 640x480 with 1 Axes>"
      ]
     },
     "metadata": {},
     "output_type": "display_data"
    }
   ],
   "source": [
    "data['Asset rise'].plot()"
   ]
  },
  {
   "cell_type": "code",
   "execution_count": 111,
   "id": "3b151f2b",
   "metadata": {},
   "outputs": [],
   "source": [
    "import matplotlib.pyplot as plt"
   ]
  },
  {
   "cell_type": "code",
   "execution_count": 114,
   "id": "5231c74c",
   "metadata": {},
   "outputs": [
    {
     "data": {
      "image/png": "[encoded data removed]",
      "text/plain": [
       "<Figure size 640x480 with 1 Axes>"
      ]
     },
     "metadata": {},
     "output_type": "display_data"
    }
   ],
   "source": [
    "plt.boxplot(data['Asset rise'])\n",
    "plt.show();"
   ]
  },
  {
   "cell_type": "code",
   "execution_count": null,
   "id": "046d90a3",
   "metadata": {},
   "outputs": [],
   "source": []
  }
 ],
 "metadata": {
  "kernelspec": {
   "display_name": "Python 3 (ipykernel)",
   "language": "python",
   "name": "python3"
  },
  "language_info": {
   "codemirror_mode": {
    "name": "ipython",
    "version": 3
   },
   "file_extension": ".py",
   "mimetype": "text/x-python",
   "name": "python",
   "nbconvert_exporter": "python",
   "pygments_lexer": "ipython3",
   "version": "3.9.16"
  }
 },
 "nbformat": 4,
 "nbformat_minor": 5
}
