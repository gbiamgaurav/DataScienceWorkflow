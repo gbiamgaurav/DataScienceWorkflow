{
 "cells": [
  {
   "cell_type": "markdown",
   "id": "39c877c9",
   "metadata": {},
   "source": [
    "# Project - Data Science Salaries"
   ]
  },
  {
   "cell_type": "markdown",
   "id": "26869a35",
   "metadata": {},
   "source": [
    "![Data Science Workflow](img/ds-workflow.png)"
   ]
  },
  {
   "cell_type": "markdown",
   "id": "525fb9c6",
   "metadata": {},
   "source": [
    "## Goal of project\n",
    "- The goal of this project is to present insightful statistics of Data Science Salaries\n",
    "- The local newspaper (or online site) want to write an article on how lucrative it is to be Data Science"
   ]
  },
  {
   "cell_type": "markdown",
   "id": "77f362c4",
   "metadata": {},
   "source": [
    "## Step 1: Acquire\n",
    "- Explore problem\n",
    "- Identify data\n",
    "- Import data"
   ]
  },
  {
   "cell_type": "markdown",
   "id": "6f8cbbcb",
   "metadata": {},
   "source": [
    "### Step 1.a: Import libraries\n",
    "- Execute the cell below (SHIFT + ENTER)"
   ]
  },
  {
   "cell_type": "code",
   "execution_count": 1,
   "id": "64a86f68",
   "metadata": {},
   "outputs": [],
   "source": [
    "import pandas as pd\n",
    "import matplotlib.pyplot as plt\n",
    "%matplotlib inline"
   ]
  },
  {
   "cell_type": "markdown",
   "id": "b5f9a799",
   "metadata": {},
   "source": [
    "### Step 1.b: Read the data\n",
    "- Use ```pd.read_csv()``` to read the file `files/data_science_salaries.csv`\n",
    "- NOTE: Remember to assign the result to a variable (e.g., ```data```)\n",
    "- Apply ```.head()``` on the data to see all is as expected\n",
    "- Dataset is from **Kaggle** (Get updated dataset [here](https://www.kaggle.com/saurabhshahane/data-science-jobs-salaries))"
   ]
  },
  {
   "cell_type": "code",
   "execution_count": 2,
   "id": "76f2806a",
   "metadata": {},
   "outputs": [],
   "source": [
    "data = pd.read_csv(\"files/data_science_salaries.csv\")"
   ]
  },
  {
   "cell_type": "code",
   "execution_count": 3,
   "id": "e2b16778",
   "metadata": {},
   "outputs": [
    {
     "data": {
      "text/html": [
       "<div>\n",
       "<style scoped>\n",
       "    .dataframe tbody tr th:only-of-type {\n",
       "        vertical-align: middle;\n",
       "    }\n",
       "\n",
       "    .dataframe tbody tr th {\n",
       "        vertical-align: top;\n",
       "    }\n",
       "\n",
       "    .dataframe thead th {\n",
       "        text-align: right;\n",
       "    }\n",
       "</style>\n",
       "<table border=\"1\" class=\"dataframe\">\n",
       "  <thead>\n",
       "    <tr style=\"text-align: right;\">\n",
       "      <th></th>\n",
       "      <th>work_year</th>\n",
       "      <th>experience_level</th>\n",
       "      <th>employment_type</th>\n",
       "      <th>job_title</th>\n",
       "      <th>salary</th>\n",
       "      <th>salary_currency</th>\n",
       "      <th>salary_in_usd</th>\n",
       "      <th>employee_residence</th>\n",
       "      <th>remote_ratio</th>\n",
       "      <th>company_location</th>\n",
       "      <th>company_size</th>\n",
       "    </tr>\n",
       "  </thead>\n",
       "  <tbody>\n",
       "    <tr>\n",
       "      <th>0</th>\n",
       "      <td>2021e</td>\n",
       "      <td>EN</td>\n",
       "      <td>FT</td>\n",
       "      <td>Data Science Consultant</td>\n",
       "      <td>54000</td>\n",
       "      <td>EUR</td>\n",
       "      <td>64369</td>\n",
       "      <td>DE</td>\n",
       "      <td>50</td>\n",
       "      <td>DE</td>\n",
       "      <td>L</td>\n",
       "    </tr>\n",
       "    <tr>\n",
       "      <th>1</th>\n",
       "      <td>2020</td>\n",
       "      <td>SE</td>\n",
       "      <td>FT</td>\n",
       "      <td>Data Scientist</td>\n",
       "      <td>60000</td>\n",
       "      <td>EUR</td>\n",
       "      <td>68428</td>\n",
       "      <td>GR</td>\n",
       "      <td>100</td>\n",
       "      <td>US</td>\n",
       "      <td>L</td>\n",
       "    </tr>\n",
       "    <tr>\n",
       "      <th>2</th>\n",
       "      <td>2021e</td>\n",
       "      <td>EX</td>\n",
       "      <td>FT</td>\n",
       "      <td>Head of Data Science</td>\n",
       "      <td>85000</td>\n",
       "      <td>USD</td>\n",
       "      <td>85000</td>\n",
       "      <td>RU</td>\n",
       "      <td>0</td>\n",
       "      <td>RU</td>\n",
       "      <td>M</td>\n",
       "    </tr>\n",
       "    <tr>\n",
       "      <th>3</th>\n",
       "      <td>2021e</td>\n",
       "      <td>EX</td>\n",
       "      <td>FT</td>\n",
       "      <td>Head of Data</td>\n",
       "      <td>230000</td>\n",
       "      <td>USD</td>\n",
       "      <td>230000</td>\n",
       "      <td>RU</td>\n",
       "      <td>50</td>\n",
       "      <td>RU</td>\n",
       "      <td>L</td>\n",
       "    </tr>\n",
       "    <tr>\n",
       "      <th>4</th>\n",
       "      <td>2021e</td>\n",
       "      <td>EN</td>\n",
       "      <td>FT</td>\n",
       "      <td>Machine Learning Engineer</td>\n",
       "      <td>125000</td>\n",
       "      <td>USD</td>\n",
       "      <td>125000</td>\n",
       "      <td>US</td>\n",
       "      <td>100</td>\n",
       "      <td>US</td>\n",
       "      <td>S</td>\n",
       "    </tr>\n",
       "  </tbody>\n",
       "</table>\n",
       "</div>"
      ],
      "text/plain": [
       "  work_year experience_level employment_type                  job_title  \\\n",
       "0     2021e               EN              FT    Data Science Consultant   \n",
       "1      2020               SE              FT             Data Scientist   \n",
       "2     2021e               EX              FT       Head of Data Science   \n",
       "3     2021e               EX              FT               Head of Data   \n",
       "4     2021e               EN              FT  Machine Learning Engineer   \n",
       "\n",
       "   salary salary_currency  salary_in_usd employee_residence  remote_ratio  \\\n",
       "0   54000             EUR          64369                 DE            50   \n",
       "1   60000             EUR          68428                 GR           100   \n",
       "2   85000             USD          85000                 RU             0   \n",
       "3  230000             USD         230000                 RU            50   \n",
       "4  125000             USD         125000                 US           100   \n",
       "\n",
       "  company_location company_size  \n",
       "0               DE            L  \n",
       "1               US            L  \n",
       "2               RU            M  \n",
       "3               RU            L  \n",
       "4               US            S  "
      ]
     },
     "execution_count": 3,
     "metadata": {},
     "output_type": "execute_result"
    }
   ],
   "source": [
    "data.head()"
   ]
  },
  {
   "cell_type": "markdown",
   "id": "a2377dd7",
   "metadata": {},
   "source": [
    "### Step 1.c: Inspect the data\n",
    "- Check the size of the dataset\n",
    "- Can you make conclusions based on it?"
   ]
  },
  {
   "cell_type": "code",
   "execution_count": 5,
   "id": "ee7ac231",
   "metadata": {},
   "outputs": [
    {
     "data": {
      "text/plain": [
       "(245, 11)"
      ]
     },
     "execution_count": 5,
     "metadata": {},
     "output_type": "execute_result"
    }
   ],
   "source": [
    "data.shape"
   ]
  },
  {
   "cell_type": "markdown",
   "id": "3bec949d",
   "metadata": {},
   "source": [
    "## Step 2: Prepare\n",
    "- Explore data\n",
    "- Visualize ideas\n",
    "- Cleaning data"
   ]
  },
  {
   "cell_type": "markdown",
   "id": "6a5d948d",
   "metadata": {},
   "source": [
    "### Step 2.a: Check the data types\n",
    "- This step tells you if some numeric column is not represented numeric.\n",
    "- Get the data types by ```.dtypes```"
   ]
  },
  {
   "cell_type": "code",
   "execution_count": 7,
   "id": "6772944b",
   "metadata": {},
   "outputs": [
    {
     "data": {
      "text/plain": [
       "work_year             object\n",
       "experience_level      object\n",
       "employment_type       object\n",
       "job_title             object\n",
       "salary                 int64\n",
       "salary_currency       object\n",
       "salary_in_usd          int64\n",
       "employee_residence    object\n",
       "remote_ratio           int64\n",
       "company_location      object\n",
       "company_size          object\n",
       "dtype: object"
      ]
     },
     "execution_count": 7,
     "metadata": {},
     "output_type": "execute_result"
    }
   ],
   "source": [
    "data.dtypes"
   ]
  },
  {
   "cell_type": "markdown",
   "id": "2867789a",
   "metadata": {},
   "source": [
    "### Step 2.b: Check for null (missing) values\n",
    "- Data often is missing entries - there can be many reasons for this\n",
    "- We need to deal with that (will do later in course)\n",
    "- Use ```.isnull().any()```"
   ]
  },
  {
   "cell_type": "code",
   "execution_count": 8,
   "id": "17d92330",
   "metadata": {},
   "outputs": [
    {
     "data": {
      "text/plain": [
       "work_year             False\n",
       "experience_level      False\n",
       "employment_type       False\n",
       "job_title             False\n",
       "salary                False\n",
       "salary_currency       False\n",
       "salary_in_usd         False\n",
       "employee_residence    False\n",
       "remote_ratio          False\n",
       "company_location      False\n",
       "company_size          False\n",
       "dtype: bool"
      ]
     },
     "execution_count": 8,
     "metadata": {},
     "output_type": "execute_result"
    }
   ],
   "source": [
    "data.isnull().any()"
   ]
  },
  {
   "cell_type": "code",
   "execution_count": 9,
   "id": "5250d20d",
   "metadata": {},
   "outputs": [
    {
     "data": {
      "text/plain": [
       "work_year             0\n",
       "experience_level      0\n",
       "employment_type       0\n",
       "job_title             0\n",
       "salary                0\n",
       "salary_currency       0\n",
       "salary_in_usd         0\n",
       "employee_residence    0\n",
       "remote_ratio          0\n",
       "company_location      0\n",
       "company_size          0\n",
       "dtype: int64"
      ]
     },
     "execution_count": 9,
     "metadata": {},
     "output_type": "execute_result"
    }
   ],
   "source": [
    "data.isnull().sum()"
   ]
  },
  {
   "cell_type": "markdown",
   "id": "137fdfde",
   "metadata": {},
   "source": [
    "### Step 2.c: Understand features\n",
    "- Most features has categories\n",
    "- A way to categorize them is by using `data['work_year'].unique()`\n",
    "- Similar for the other categories. Example:\n",
    "    - `experience_level`: \n",
    "        - EN: Entry-level / Junior\n",
    "        - MI: Mid-level / Intermediate\n",
    "        - SE: Senior-level / Expert\n",
    "        - EX: Executive-level / Director\n",
    "- See full description on [Kaggle](https://www.kaggle.com/saurabhshahane/data-science-jobs-salaries)"
   ]
  },
  {
   "cell_type": "code",
   "execution_count": 10,
   "id": "f2bfa495",
   "metadata": {},
   "outputs": [
    {
     "data": {
      "text/plain": [
       "array(['2021e', '2020'], dtype=object)"
      ]
     },
     "execution_count": 10,
     "metadata": {},
     "output_type": "execute_result"
    }
   ],
   "source": [
    "data['work_year'].unique()"
   ]
  },
  {
   "cell_type": "code",
   "execution_count": 11,
   "id": "d5233628",
   "metadata": {},
   "outputs": [
    {
     "data": {
      "text/plain": [
       "array(['EN', 'SE', 'EX', 'MI'], dtype=object)"
      ]
     },
     "execution_count": 11,
     "metadata": {},
     "output_type": "execute_result"
    }
   ],
   "source": [
    "data['experience_level'].unique()"
   ]
  },
  {
   "cell_type": "code",
   "execution_count": 12,
   "id": "69d064aa",
   "metadata": {},
   "outputs": [
    {
     "data": {
      "text/plain": [
       "array(['L', 'M', 'S'], dtype=object)"
      ]
     },
     "execution_count": 12,
     "metadata": {},
     "output_type": "execute_result"
    }
   ],
   "source": [
    "data['company_size'].unique()"
   ]
  },
  {
   "cell_type": "markdown",
   "id": "2408a701",
   "metadata": {},
   "source": [
    "### Step 2.d: Salaries\n",
    "- Notice that salaries are given in different currencies\n",
    "- Also, notice `salary_in_usd`"
   ]
  },
  {
   "cell_type": "code",
   "execution_count": 13,
   "id": "2357bcf5",
   "metadata": {},
   "outputs": [
    {
     "data": {
      "text/html": [
       "<div>\n",
       "<style scoped>\n",
       "    .dataframe tbody tr th:only-of-type {\n",
       "        vertical-align: middle;\n",
       "    }\n",
       "\n",
       "    .dataframe tbody tr th {\n",
       "        vertical-align: top;\n",
       "    }\n",
       "\n",
       "    .dataframe thead th {\n",
       "        text-align: right;\n",
       "    }\n",
       "</style>\n",
       "<table border=\"1\" class=\"dataframe\">\n",
       "  <thead>\n",
       "    <tr style=\"text-align: right;\">\n",
       "      <th></th>\n",
       "      <th>work_year</th>\n",
       "      <th>experience_level</th>\n",
       "      <th>employment_type</th>\n",
       "      <th>job_title</th>\n",
       "      <th>salary</th>\n",
       "      <th>salary_currency</th>\n",
       "      <th>salary_in_usd</th>\n",
       "      <th>employee_residence</th>\n",
       "      <th>remote_ratio</th>\n",
       "      <th>company_location</th>\n",
       "      <th>company_size</th>\n",
       "    </tr>\n",
       "  </thead>\n",
       "  <tbody>\n",
       "    <tr>\n",
       "      <th>0</th>\n",
       "      <td>2021e</td>\n",
       "      <td>EN</td>\n",
       "      <td>FT</td>\n",
       "      <td>Data Science Consultant</td>\n",
       "      <td>54000</td>\n",
       "      <td>EUR</td>\n",
       "      <td>64369</td>\n",
       "      <td>DE</td>\n",
       "      <td>50</td>\n",
       "      <td>DE</td>\n",
       "      <td>L</td>\n",
       "    </tr>\n",
       "    <tr>\n",
       "      <th>1</th>\n",
       "      <td>2020</td>\n",
       "      <td>SE</td>\n",
       "      <td>FT</td>\n",
       "      <td>Data Scientist</td>\n",
       "      <td>60000</td>\n",
       "      <td>EUR</td>\n",
       "      <td>68428</td>\n",
       "      <td>GR</td>\n",
       "      <td>100</td>\n",
       "      <td>US</td>\n",
       "      <td>L</td>\n",
       "    </tr>\n",
       "    <tr>\n",
       "      <th>2</th>\n",
       "      <td>2021e</td>\n",
       "      <td>EX</td>\n",
       "      <td>FT</td>\n",
       "      <td>Head of Data Science</td>\n",
       "      <td>85000</td>\n",
       "      <td>USD</td>\n",
       "      <td>85000</td>\n",
       "      <td>RU</td>\n",
       "      <td>0</td>\n",
       "      <td>RU</td>\n",
       "      <td>M</td>\n",
       "    </tr>\n",
       "    <tr>\n",
       "      <th>3</th>\n",
       "      <td>2021e</td>\n",
       "      <td>EX</td>\n",
       "      <td>FT</td>\n",
       "      <td>Head of Data</td>\n",
       "      <td>230000</td>\n",
       "      <td>USD</td>\n",
       "      <td>230000</td>\n",
       "      <td>RU</td>\n",
       "      <td>50</td>\n",
       "      <td>RU</td>\n",
       "      <td>L</td>\n",
       "    </tr>\n",
       "    <tr>\n",
       "      <th>4</th>\n",
       "      <td>2021e</td>\n",
       "      <td>EN</td>\n",
       "      <td>FT</td>\n",
       "      <td>Machine Learning Engineer</td>\n",
       "      <td>125000</td>\n",
       "      <td>USD</td>\n",
       "      <td>125000</td>\n",
       "      <td>US</td>\n",
       "      <td>100</td>\n",
       "      <td>US</td>\n",
       "      <td>S</td>\n",
       "    </tr>\n",
       "  </tbody>\n",
       "</table>\n",
       "</div>"
      ],
      "text/plain": [
       "  work_year experience_level employment_type                  job_title  \\\n",
       "0     2021e               EN              FT    Data Science Consultant   \n",
       "1      2020               SE              FT             Data Scientist   \n",
       "2     2021e               EX              FT       Head of Data Science   \n",
       "3     2021e               EX              FT               Head of Data   \n",
       "4     2021e               EN              FT  Machine Learning Engineer   \n",
       "\n",
       "   salary salary_currency  salary_in_usd employee_residence  remote_ratio  \\\n",
       "0   54000             EUR          64369                 DE            50   \n",
       "1   60000             EUR          68428                 GR           100   \n",
       "2   85000             USD          85000                 RU             0   \n",
       "3  230000             USD         230000                 RU            50   \n",
       "4  125000             USD         125000                 US           100   \n",
       "\n",
       "  company_location company_size  \n",
       "0               DE            L  \n",
       "1               US            L  \n",
       "2               RU            M  \n",
       "3               RU            L  \n",
       "4               US            S  "
      ]
     },
     "execution_count": 13,
     "metadata": {},
     "output_type": "execute_result"
    }
   ],
   "source": [
    "data.head()"
   ]
  },
  {
   "cell_type": "markdown",
   "id": "8cc1cabe",
   "metadata": {},
   "source": [
    "## Step 3: Analyze\n",
    "- Feature selection\n",
    "- Model selection\n",
    "- Analyze data"
   ]
  },
  {
   "cell_type": "markdown",
   "id": "b039bb8b",
   "metadata": {},
   "source": [
    "### Step 3.a: Explore features\n",
    "- One way to explore features is as follows (here we explore `experience_level`)\n",
    "```Python\n",
    "data.groupby('experience_level')['salary_in_usd'].describe()\n",
    "```\n",
    "- Explore other features"
   ]
  },
  {
   "cell_type": "code",
   "execution_count": 14,
   "id": "1e27b890",
   "metadata": {},
   "outputs": [
    {
     "data": {
      "text/html": [
       "<div>\n",
       "<style scoped>\n",
       "    .dataframe tbody tr th:only-of-type {\n",
       "        vertical-align: middle;\n",
       "    }\n",
       "\n",
       "    .dataframe tbody tr th {\n",
       "        vertical-align: top;\n",
       "    }\n",
       "\n",
       "    .dataframe thead th {\n",
       "        text-align: right;\n",
       "    }\n",
       "</style>\n",
       "<table border=\"1\" class=\"dataframe\">\n",
       "  <thead>\n",
       "    <tr style=\"text-align: right;\">\n",
       "      <th></th>\n",
       "      <th>count</th>\n",
       "      <th>mean</th>\n",
       "      <th>std</th>\n",
       "      <th>min</th>\n",
       "      <th>25%</th>\n",
       "      <th>50%</th>\n",
       "      <th>75%</th>\n",
       "      <th>max</th>\n",
       "    </tr>\n",
       "    <tr>\n",
       "      <th>experience_level</th>\n",
       "      <th></th>\n",
       "      <th></th>\n",
       "      <th></th>\n",
       "      <th></th>\n",
       "      <th></th>\n",
       "      <th></th>\n",
       "      <th></th>\n",
       "      <th></th>\n",
       "    </tr>\n",
       "  </thead>\n",
       "  <tbody>\n",
       "    <tr>\n",
       "      <th>EN</th>\n",
       "      <td>54.0</td>\n",
       "      <td>59753.462963</td>\n",
       "      <td>49103.427811</td>\n",
       "      <td>4000.0</td>\n",
       "      <td>21732.25</td>\n",
       "      <td>58800.5</td>\n",
       "      <td>82500.0</td>\n",
       "      <td>250000.0</td>\n",
       "    </tr>\n",
       "    <tr>\n",
       "      <th>EX</th>\n",
       "      <td>11.0</td>\n",
       "      <td>226288.000000</td>\n",
       "      <td>164029.405584</td>\n",
       "      <td>70329.0</td>\n",
       "      <td>114021.50</td>\n",
       "      <td>154963.0</td>\n",
       "      <td>280000.0</td>\n",
       "      <td>600000.0</td>\n",
       "    </tr>\n",
       "    <tr>\n",
       "      <th>MI</th>\n",
       "      <td>103.0</td>\n",
       "      <td>85738.135922</td>\n",
       "      <td>78324.468318</td>\n",
       "      <td>2876.0</td>\n",
       "      <td>40505.00</td>\n",
       "      <td>73000.0</td>\n",
       "      <td>110000.0</td>\n",
       "      <td>450000.0</td>\n",
       "    </tr>\n",
       "    <tr>\n",
       "      <th>SE</th>\n",
       "      <td>77.0</td>\n",
       "      <td>128841.298701</td>\n",
       "      <td>67909.763752</td>\n",
       "      <td>19052.0</td>\n",
       "      <td>78340.00</td>\n",
       "      <td>120000.0</td>\n",
       "      <td>170000.0</td>\n",
       "      <td>412000.0</td>\n",
       "    </tr>\n",
       "  </tbody>\n",
       "</table>\n",
       "</div>"
      ],
      "text/plain": [
       "                  count           mean            std      min        25%  \\\n",
       "experience_level                                                            \n",
       "EN                 54.0   59753.462963   49103.427811   4000.0   21732.25   \n",
       "EX                 11.0  226288.000000  164029.405584  70329.0  114021.50   \n",
       "MI                103.0   85738.135922   78324.468318   2876.0   40505.00   \n",
       "SE                 77.0  128841.298701   67909.763752  19052.0   78340.00   \n",
       "\n",
       "                       50%       75%       max  \n",
       "experience_level                                \n",
       "EN                 58800.5   82500.0  250000.0  \n",
       "EX                154963.0  280000.0  600000.0  \n",
       "MI                 73000.0  110000.0  450000.0  \n",
       "SE                120000.0  170000.0  412000.0  "
      ]
     },
     "execution_count": 14,
     "metadata": {},
     "output_type": "execute_result"
    }
   ],
   "source": [
    "data.groupby('experience_level')['salary_in_usd'].describe()"
   ]
  },
  {
   "cell_type": "code",
   "execution_count": 15,
   "id": "8a44fe14",
   "metadata": {},
   "outputs": [
    {
     "data": {
      "text/html": [
       "<div>\n",
       "<style scoped>\n",
       "    .dataframe tbody tr th:only-of-type {\n",
       "        vertical-align: middle;\n",
       "    }\n",
       "\n",
       "    .dataframe tbody tr th {\n",
       "        vertical-align: top;\n",
       "    }\n",
       "\n",
       "    .dataframe thead th {\n",
       "        text-align: right;\n",
       "    }\n",
       "</style>\n",
       "<table border=\"1\" class=\"dataframe\">\n",
       "  <thead>\n",
       "    <tr style=\"text-align: right;\">\n",
       "      <th></th>\n",
       "      <th>count</th>\n",
       "      <th>mean</th>\n",
       "      <th>std</th>\n",
       "      <th>min</th>\n",
       "      <th>25%</th>\n",
       "      <th>50%</th>\n",
       "      <th>75%</th>\n",
       "      <th>max</th>\n",
       "    </tr>\n",
       "    <tr>\n",
       "      <th>company_size</th>\n",
       "      <th></th>\n",
       "      <th></th>\n",
       "      <th></th>\n",
       "      <th></th>\n",
       "      <th></th>\n",
       "      <th></th>\n",
       "      <th></th>\n",
       "      <th></th>\n",
       "    </tr>\n",
       "  </thead>\n",
       "  <tbody>\n",
       "    <tr>\n",
       "      <th>L</th>\n",
       "      <td>132.0</td>\n",
       "      <td>114374.015152</td>\n",
       "      <td>90822.326575</td>\n",
       "      <td>5898.0</td>\n",
       "      <td>56183.5</td>\n",
       "      <td>91500.0</td>\n",
       "      <td>150000.0</td>\n",
       "      <td>600000.0</td>\n",
       "    </tr>\n",
       "    <tr>\n",
       "      <th>M</th>\n",
       "      <td>55.0</td>\n",
       "      <td>85082.818182</td>\n",
       "      <td>72504.464408</td>\n",
       "      <td>4000.0</td>\n",
       "      <td>36337.5</td>\n",
       "      <td>71968.0</td>\n",
       "      <td>116062.5</td>\n",
       "      <td>450000.0</td>\n",
       "    </tr>\n",
       "    <tr>\n",
       "      <th>S</th>\n",
       "      <td>58.0</td>\n",
       "      <td>80874.793103</td>\n",
       "      <td>72038.848392</td>\n",
       "      <td>2876.0</td>\n",
       "      <td>35555.5</td>\n",
       "      <td>68364.5</td>\n",
       "      <td>101951.0</td>\n",
       "      <td>416000.0</td>\n",
       "    </tr>\n",
       "  </tbody>\n",
       "</table>\n",
       "</div>"
      ],
      "text/plain": [
       "              count           mean           std     min      25%      50%  \\\n",
       "company_size                                                                 \n",
       "L             132.0  114374.015152  90822.326575  5898.0  56183.5  91500.0   \n",
       "M              55.0   85082.818182  72504.464408  4000.0  36337.5  71968.0   \n",
       "S              58.0   80874.793103  72038.848392  2876.0  35555.5  68364.5   \n",
       "\n",
       "                   75%       max  \n",
       "company_size                      \n",
       "L             150000.0  600000.0  \n",
       "M             116062.5  450000.0  \n",
       "S             101951.0  416000.0  "
      ]
     },
     "execution_count": 15,
     "metadata": {},
     "output_type": "execute_result"
    }
   ],
   "source": [
    "data.groupby('company_size')['salary_in_usd'].describe()"
   ]
  },
  {
   "cell_type": "markdown",
   "id": "14de33c4",
   "metadata": {},
   "source": [
    "### Step 3.b: Explore data on two columns\n",
    "- Say you want to investigate two columns: `experience_level` and `company_size`\n",
    "```Python\n",
    "data.groupby(['experience_level', 'company_size'])['salary_in_usd'].mean()\n",
    "```\n",
    "- Try similar for other combinations"
   ]
  },
  {
   "cell_type": "code",
   "execution_count": 16,
   "id": "fbeeeb3e",
   "metadata": {},
   "outputs": [
    {
     "data": {
      "text/plain": [
       "experience_level  company_size\n",
       "EN                L                75148.000000\n",
       "                  M                41063.923077\n",
       "                  S                57502.000000\n",
       "EX                L               239729.875000\n",
       "                  M                85000.000000\n",
       "                  S               243164.500000\n",
       "MI                L                96285.451613\n",
       "                  M                83982.800000\n",
       "                  S                47610.000000\n",
       "SE                L               134465.604651\n",
       "                  M               122572.125000\n",
       "                  S               120978.055556\n",
       "Name: salary_in_usd, dtype: float64"
      ]
     },
     "execution_count": 16,
     "metadata": {},
     "output_type": "execute_result"
    }
   ],
   "source": [
    "data.groupby(['experience_level', 'company_size'])['salary_in_usd'].mean()"
   ]
  },
  {
   "cell_type": "markdown",
   "id": "6ed6cef0",
   "metadata": {},
   "source": [
    "### Step 3.c: Describe data on two columns\n",
    "- How does the spread look like.\n",
    "- Can we conclude anything based on data\n",
    "```Python\n",
    "data.groupby(['company_size', 'experience_level'])['salary_in_usd'].describe()\n",
    "```"
   ]
  },
  {
   "cell_type": "code",
   "execution_count": 17,
   "id": "579047ff",
   "metadata": {},
   "outputs": [
    {
     "data": {
      "text/html": [
       "<div>\n",
       "<style scoped>\n",
       "    .dataframe tbody tr th:only-of-type {\n",
       "        vertical-align: middle;\n",
       "    }\n",
       "\n",
       "    .dataframe tbody tr th {\n",
       "        vertical-align: top;\n",
       "    }\n",
       "\n",
       "    .dataframe thead th {\n",
       "        text-align: right;\n",
       "    }\n",
       "</style>\n",
       "<table border=\"1\" class=\"dataframe\">\n",
       "  <thead>\n",
       "    <tr style=\"text-align: right;\">\n",
       "      <th></th>\n",
       "      <th></th>\n",
       "      <th>count</th>\n",
       "      <th>mean</th>\n",
       "      <th>std</th>\n",
       "      <th>min</th>\n",
       "      <th>25%</th>\n",
       "      <th>50%</th>\n",
       "      <th>75%</th>\n",
       "      <th>max</th>\n",
       "    </tr>\n",
       "    <tr>\n",
       "      <th>company_size</th>\n",
       "      <th>experience_level</th>\n",
       "      <th></th>\n",
       "      <th></th>\n",
       "      <th></th>\n",
       "      <th></th>\n",
       "      <th></th>\n",
       "      <th></th>\n",
       "      <th></th>\n",
       "      <th></th>\n",
       "    </tr>\n",
       "  </thead>\n",
       "  <tbody>\n",
       "    <tr>\n",
       "      <th rowspan=\"4\" valign=\"top\">L</th>\n",
       "      <th>EN</th>\n",
       "      <td>19.0</td>\n",
       "      <td>75148.000000</td>\n",
       "      <td>64087.707409</td>\n",
       "      <td>5898.0</td>\n",
       "      <td>33730.50</td>\n",
       "      <td>64369.0</td>\n",
       "      <td>87000.00</td>\n",
       "      <td>250000.0</td>\n",
       "    </tr>\n",
       "    <tr>\n",
       "      <th>EX</th>\n",
       "      <td>8.0</td>\n",
       "      <td>239729.875000</td>\n",
       "      <td>163591.318040</td>\n",
       "      <td>79833.0</td>\n",
       "      <td>148260.75</td>\n",
       "      <td>192481.5</td>\n",
       "      <td>257500.00</td>\n",
       "      <td>600000.0</td>\n",
       "    </tr>\n",
       "    <tr>\n",
       "      <th>MI</th>\n",
       "      <td>62.0</td>\n",
       "      <td>96285.451613</td>\n",
       "      <td>80426.650346</td>\n",
       "      <td>6072.0</td>\n",
       "      <td>46851.50</td>\n",
       "      <td>82500.0</td>\n",
       "      <td>112654.00</td>\n",
       "      <td>450000.0</td>\n",
       "    </tr>\n",
       "    <tr>\n",
       "      <th>SE</th>\n",
       "      <td>43.0</td>\n",
       "      <td>134465.604651</td>\n",
       "      <td>74345.888870</td>\n",
       "      <td>21843.0</td>\n",
       "      <td>74147.00</td>\n",
       "      <td>135000.0</td>\n",
       "      <td>174000.00</td>\n",
       "      <td>412000.0</td>\n",
       "    </tr>\n",
       "    <tr>\n",
       "      <th rowspan=\"4\" valign=\"top\">M</th>\n",
       "      <th>EN</th>\n",
       "      <td>13.0</td>\n",
       "      <td>41063.923077</td>\n",
       "      <td>30822.672549</td>\n",
       "      <td>4000.0</td>\n",
       "      <td>21695.00</td>\n",
       "      <td>28475.0</td>\n",
       "      <td>65561.00</td>\n",
       "      <td>100000.0</td>\n",
       "    </tr>\n",
       "    <tr>\n",
       "      <th>EX</th>\n",
       "      <td>1.0</td>\n",
       "      <td>85000.000000</td>\n",
       "      <td>NaN</td>\n",
       "      <td>85000.0</td>\n",
       "      <td>85000.00</td>\n",
       "      <td>85000.0</td>\n",
       "      <td>85000.00</td>\n",
       "      <td>85000.0</td>\n",
       "    </tr>\n",
       "    <tr>\n",
       "      <th>MI</th>\n",
       "      <td>25.0</td>\n",
       "      <td>83982.800000</td>\n",
       "      <td>87827.739265</td>\n",
       "      <td>4000.0</td>\n",
       "      <td>38776.00</td>\n",
       "      <td>61985.0</td>\n",
       "      <td>111775.00</td>\n",
       "      <td>450000.0</td>\n",
       "    </tr>\n",
       "    <tr>\n",
       "      <th>SE</th>\n",
       "      <td>16.0</td>\n",
       "      <td>122572.125000</td>\n",
       "      <td>51404.202382</td>\n",
       "      <td>19052.0</td>\n",
       "      <td>94552.00</td>\n",
       "      <td>117062.5</td>\n",
       "      <td>166250.00</td>\n",
       "      <td>195000.0</td>\n",
       "    </tr>\n",
       "    <tr>\n",
       "      <th rowspan=\"4\" valign=\"top\">S</th>\n",
       "      <th>EN</th>\n",
       "      <td>22.0</td>\n",
       "      <td>57502.000000</td>\n",
       "      <td>39823.933768</td>\n",
       "      <td>6072.0</td>\n",
       "      <td>18993.75</td>\n",
       "      <td>55660.5</td>\n",
       "      <td>88750.00</td>\n",
       "      <td>138000.0</td>\n",
       "    </tr>\n",
       "    <tr>\n",
       "      <th>EX</th>\n",
       "      <td>2.0</td>\n",
       "      <td>243164.500000</td>\n",
       "      <td>244426.308160</td>\n",
       "      <td>70329.0</td>\n",
       "      <td>156746.75</td>\n",
       "      <td>243164.5</td>\n",
       "      <td>329582.25</td>\n",
       "      <td>416000.0</td>\n",
       "    </tr>\n",
       "    <tr>\n",
       "      <th>MI</th>\n",
       "      <td>16.0</td>\n",
       "      <td>47610.000000</td>\n",
       "      <td>32458.213574</td>\n",
       "      <td>2876.0</td>\n",
       "      <td>17737.25</td>\n",
       "      <td>46720.5</td>\n",
       "      <td>68300.00</td>\n",
       "      <td>110000.0</td>\n",
       "    </tr>\n",
       "    <tr>\n",
       "      <th>SE</th>\n",
       "      <td>18.0</td>\n",
       "      <td>120978.055556</td>\n",
       "      <td>66689.351887</td>\n",
       "      <td>33511.0</td>\n",
       "      <td>78110.75</td>\n",
       "      <td>108898.5</td>\n",
       "      <td>160000.00</td>\n",
       "      <td>260000.0</td>\n",
       "    </tr>\n",
       "  </tbody>\n",
       "</table>\n",
       "</div>"
      ],
      "text/plain": [
       "                               count           mean            std      min  \\\n",
       "company_size experience_level                                                 \n",
       "L            EN                 19.0   75148.000000   64087.707409   5898.0   \n",
       "             EX                  8.0  239729.875000  163591.318040  79833.0   \n",
       "             MI                 62.0   96285.451613   80426.650346   6072.0   \n",
       "             SE                 43.0  134465.604651   74345.888870  21843.0   \n",
       "M            EN                 13.0   41063.923077   30822.672549   4000.0   \n",
       "             EX                  1.0   85000.000000            NaN  85000.0   \n",
       "             MI                 25.0   83982.800000   87827.739265   4000.0   \n",
       "             SE                 16.0  122572.125000   51404.202382  19052.0   \n",
       "S            EN                 22.0   57502.000000   39823.933768   6072.0   \n",
       "             EX                  2.0  243164.500000  244426.308160  70329.0   \n",
       "             MI                 16.0   47610.000000   32458.213574   2876.0   \n",
       "             SE                 18.0  120978.055556   66689.351887  33511.0   \n",
       "\n",
       "                                     25%       50%        75%       max  \n",
       "company_size experience_level                                            \n",
       "L            EN                 33730.50   64369.0   87000.00  250000.0  \n",
       "             EX                148260.75  192481.5  257500.00  600000.0  \n",
       "             MI                 46851.50   82500.0  112654.00  450000.0  \n",
       "             SE                 74147.00  135000.0  174000.00  412000.0  \n",
       "M            EN                 21695.00   28475.0   65561.00  100000.0  \n",
       "             EX                 85000.00   85000.0   85000.00   85000.0  \n",
       "             MI                 38776.00   61985.0  111775.00  450000.0  \n",
       "             SE                 94552.00  117062.5  166250.00  195000.0  \n",
       "S            EN                 18993.75   55660.5   88750.00  138000.0  \n",
       "             EX                156746.75  243164.5  329582.25  416000.0  \n",
       "             MI                 17737.25   46720.5   68300.00  110000.0  \n",
       "             SE                 78110.75  108898.5  160000.00  260000.0  "
      ]
     },
     "execution_count": 17,
     "metadata": {},
     "output_type": "execute_result"
    }
   ],
   "source": [
    "data.groupby(['company_size', 'experience_level'])['salary_in_usd'].describe()"
   ]
  },
  {
   "cell_type": "markdown",
   "id": "2a825783",
   "metadata": {},
   "source": [
    "### Step 3.d: Visualize the description\n",
    "- What does this tell you\n",
    "```Python\n",
    "data.boxplot(column='salary_in_usd', by='company_size')\n",
    "```\n",
    "- Do this for other features of your interest"
   ]
  },
  {
   "cell_type": "code",
   "execution_count": 20,
   "id": "76da495f",
   "metadata": {},
   "outputs": [
    {
     "data": {
      "text/plain": [
       "<AxesSubplot: title={'center': 'salary_in_usd'}, xlabel='company_size'>"
      ]
     },
     "execution_count": 20,
     "metadata": {},
     "output_type": "execute_result"
    },
    {
     "data": {
      "image/png": "[encoded data removed]",
      "text/plain": [
       "<Figure size 640x480 with 1 Axes>"
      ]
     },
     "metadata": {},
     "output_type": "display_data"
    }
   ],
   "source": [
    "data.boxplot(column='salary_in_usd', by='company_size')"
   ]
  },
  {
   "cell_type": "code",
   "execution_count": 21,
   "id": "ad8878c4",
   "metadata": {},
   "outputs": [
    {
     "data": {
      "text/plain": [
       "<AxesSubplot: title={'center': 'salary_in_usd'}, xlabel='experience_level'>"
      ]
     },
     "execution_count": 21,
     "metadata": {},
     "output_type": "execute_result"
    },
    {
     "data": {
      "image/png": "[encoded data removed]",
      "text/plain": [
       "<Figure size 640x480 with 1 Axes>"
      ]
     },
     "metadata": {},
     "output_type": "display_data"
    }
   ],
   "source": [
    "data.boxplot(column='salary_in_usd', by='experience_level')"
   ]
  },
  {
   "cell_type": "markdown",
   "id": "98a71ee2",
   "metadata": {},
   "source": [
    "## Step 4: Report\n",
    "- Present findings\n",
    "- Visualize results\n",
    "- Credibility counts"
   ]
  },
  {
   "cell_type": "markdown",
   "id": "1e08b1e1",
   "metadata": {},
   "source": [
    "### Step 4.a: Present your findings\n",
    "- Here we focus on `company_size` and `experience_level`\n",
    "- Create a data frame for the data to plot.\n",
    "    - This makes easy to re-order index and column\n",
    "- Notice: Do it for the features you want to present\n",
    "```Python\n",
    "data.groupby(['company_size', 'experience_level'])['salary_in_usd'].mean().unstack()\n",
    "```\n",
    "- [unstack()](https://pandas.pydata.org/docs/reference/api/pandas.DataFrame.unstack.html) unstacks multiindex"
   ]
  },
  {
   "cell_type": "code",
   "execution_count": 23,
   "id": "a4894e19",
   "metadata": {},
   "outputs": [],
   "source": [
    "plot_data = data.groupby(['company_size', 'experience_level'])['salary_in_usd'].mean().unstack()"
   ]
  },
  {
   "cell_type": "code",
   "execution_count": 24,
   "id": "d7991aab",
   "metadata": {},
   "outputs": [
    {
     "data": {
      "text/html": [
       "<div>\n",
       "<style scoped>\n",
       "    .dataframe tbody tr th:only-of-type {\n",
       "        vertical-align: middle;\n",
       "    }\n",
       "\n",
       "    .dataframe tbody tr th {\n",
       "        vertical-align: top;\n",
       "    }\n",
       "\n",
       "    .dataframe thead th {\n",
       "        text-align: right;\n",
       "    }\n",
       "</style>\n",
       "<table border=\"1\" class=\"dataframe\">\n",
       "  <thead>\n",
       "    <tr style=\"text-align: right;\">\n",
       "      <th>experience_level</th>\n",
       "      <th>EN</th>\n",
       "      <th>EX</th>\n",
       "      <th>MI</th>\n",
       "      <th>SE</th>\n",
       "    </tr>\n",
       "    <tr>\n",
       "      <th>company_size</th>\n",
       "      <th></th>\n",
       "      <th></th>\n",
       "      <th></th>\n",
       "      <th></th>\n",
       "    </tr>\n",
       "  </thead>\n",
       "  <tbody>\n",
       "    <tr>\n",
       "      <th>L</th>\n",
       "      <td>75148.000000</td>\n",
       "      <td>239729.875</td>\n",
       "      <td>96285.451613</td>\n",
       "      <td>134465.604651</td>\n",
       "    </tr>\n",
       "    <tr>\n",
       "      <th>M</th>\n",
       "      <td>41063.923077</td>\n",
       "      <td>85000.000</td>\n",
       "      <td>83982.800000</td>\n",
       "      <td>122572.125000</td>\n",
       "    </tr>\n",
       "    <tr>\n",
       "      <th>S</th>\n",
       "      <td>57502.000000</td>\n",
       "      <td>243164.500</td>\n",
       "      <td>47610.000000</td>\n",
       "      <td>120978.055556</td>\n",
       "    </tr>\n",
       "  </tbody>\n",
       "</table>\n",
       "</div>"
      ],
      "text/plain": [
       "experience_level            EN          EX            MI             SE\n",
       "company_size                                                           \n",
       "L                 75148.000000  239729.875  96285.451613  134465.604651\n",
       "M                 41063.923077   85000.000  83982.800000  122572.125000\n",
       "S                 57502.000000  243164.500  47610.000000  120978.055556"
      ]
     },
     "execution_count": 24,
     "metadata": {},
     "output_type": "execute_result"
    }
   ],
   "source": [
    "plot_data"
   ]
  },
  {
   "cell_type": "markdown",
   "id": "b7feb05f",
   "metadata": {},
   "source": [
    "### Step 4.b: Re-order index and columns\n",
    "- We do this to present data in a logical way\n",
    "- Use `reindex(index=['S', 'M', 'L'])` (assuming the same example)\n",
    "- Re-order columns simply by filtering with `['EN', 'MI', 'SE', 'EX']`"
   ]
  },
  {
   "cell_type": "code",
   "execution_count": 25,
   "id": "b22097c9",
   "metadata": {},
   "outputs": [],
   "source": [
    "plot_data = plot_data.reindex(index=['S', 'M', 'L'])"
   ]
  },
  {
   "cell_type": "code",
   "execution_count": 26,
   "id": "61c2086f",
   "metadata": {},
   "outputs": [],
   "source": [
    "plot_data = plot_data[['EN', 'MI', 'SE', 'EX']]"
   ]
  },
  {
   "cell_type": "markdown",
   "id": "f06a7e31",
   "metadata": {},
   "source": [
    "### Step 4.c: Visualize results\n",
    "- Visualize your result with a bar-plot\n",
    "    - HINT: `plot.bar()`\n",
    "- Finalize with title and labels"
   ]
  },
  {
   "cell_type": "code",
   "execution_count": 30,
   "id": "1db44eff",
   "metadata": {},
   "outputs": [
    {
     "data": {
      "text/plain": [
       "<AxesSubplot: xlabel='company_size', ylabel='Salary in USD'>"
      ]
     },
     "execution_count": 30,
     "metadata": {},
     "output_type": "execute_result"
    },
    {
     "data": {
      "image/png": "[encoded data removed]",
      "text/plain": [
       "<Figure size 640x480 with 1 Axes>"
      ]
     },
     "metadata": {},
     "output_type": "display_data"
    }
   ],
   "source": [
    "plot_data.plot.bar(ylabel='Salary in USD')"
   ]
  },
  {
   "cell_type": "markdown",
   "id": "ea044f89",
   "metadata": {},
   "source": [
    "### Step 4.d: Credability considerations\n",
    "- With the insights we have from our analysis - could we tell another story?\n",
    "- Examples:\n",
    "    - Spread of salary\n",
    "    - Outliers\n",
    "    - Size of dataset and categories used"
   ]
  },
  {
   "cell_type": "code",
   "execution_count": null,
   "id": "6a856ce0",
   "metadata": {},
   "outputs": [],
   "source": []
  },
  {
   "cell_type": "code",
   "execution_count": null,
   "id": "fc867828",
   "metadata": {},
   "outputs": [],
   "source": []
  },
  {
   "cell_type": "markdown",
   "id": "65c865f1",
   "metadata": {},
   "source": [
    "## Step 5: Actions\n",
    "- Use insights\n",
    "- Measure impact\n",
    "- Main goal"
   ]
  },
  {
   "cell_type": "markdown",
   "id": "c11a5357",
   "metadata": {},
   "source": [
    "### Step 5.a:\n",
    "- How could we use insights?\n",
    "- How to measure it?"
   ]
  },
  {
   "cell_type": "code",
   "execution_count": null,
   "id": "7d5db0ab",
   "metadata": {},
   "outputs": [],
   "source": []
  }
 ],
 "metadata": {
  "kernelspec": {
   "display_name": "Python 3 (ipykernel)",
   "language": "python",
   "name": "python3"
  },
  "language_info": {
   "codemirror_mode": {
    "name": "ipython",
    "version": 3
   },
   "file_extension": ".py",
   "mimetype": "text/x-python",
   "name": "python",
   "nbconvert_exporter": "python",
   "pygments_lexer": "ipython3",
   "version": "3.9.16"
  }
 },
 "nbformat": 4,
 "nbformat_minor": 5
}
